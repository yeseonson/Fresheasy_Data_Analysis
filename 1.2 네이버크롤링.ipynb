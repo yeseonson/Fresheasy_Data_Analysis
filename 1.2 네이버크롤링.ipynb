{
 "cells": [
  {
   "cell_type": "code",
   "execution_count": 81,
   "metadata": {},
   "outputs": [],
   "source": [
    "import sys\n",
    "import os\n",
    "import pandas as pd\n",
    "import numpy as np\n",
    "\n",
    "from bs4 import BeautifulSoup\n",
    "from selenium import webdriver\n",
    "import time\n",
    "from tqdm.notebook import tqdm"
   ]
  },
  {
   "cell_type": "code",
   "execution_count": null,
   "metadata": {},
   "outputs": [],
   "source": [
    "path = 'chromedriver.exe'\n",
    "driver = webdriver.Chrome('../driver/chromedriver.exe')\n",
    "\n",
    "driver.get('http://www.naver.com')\n",
    "time.sleep(2)"
   ]
  },
  {
   "cell_type": "code",
   "execution_count": 74,
   "metadata": {},
   "outputs": [
    {
     "name": "stdout",
     "output_type": "stream",
     "text": [
      "1.크롤링할 텍스트는 무엇? : 홈파티음식\n"
     ]
    }
   ],
   "source": [
    "query_txt = input('1.크롤링할 텍스트는 무엇? : ')"
   ]
  },
  {
   "cell_type": "code",
   "execution_count": 75,
   "metadata": {},
   "outputs": [],
   "source": [
    "element = driver.find_element_by_id('query')\n",
    "element.send_keys(query_txt)\n",
    "element.submit()\n",
    "\n",
    "driver.find_element_by_link_text('블로그').click()"
   ]
  },
  {
   "cell_type": "code",
   "execution_count": 78,
   "metadata": {},
   "outputs": [],
   "source": [
    "driver.find_element_by_css_selector('#search_option_button').click()\n",
    "\n",
    "driver.find_element_by_xpath(\"\"\"//*[@id=\"snb\"]/div/ul/li[1]/a\"\"\").click()\n",
    "driver.find_element_by_xpath(\"\"\"//*[@id=\"snb\"]/div/ul/li[1]/div/ul/li[1]/a\"\"\").click()"
   ]
  },
  {
   "cell_type": "code",
   "execution_count": 79,
   "metadata": {},
   "outputs": [],
   "source": [
    "driver.find_element_by_xpath(\"\"\"//*[@id=\"snb\"]/div/ul/li[2]/a\"\"\").click()\n",
    "driver.find_element_by_xpath(\"\"\"//*[@id=\"snb\"]/div/ul/li[2]/div/ul/li[6]/a\"\"\").click()"
   ]
  },
  {
   "cell_type": "code",
   "execution_count": 80,
   "metadata": {},
   "outputs": [
    {
     "data": {
      "application/vnd.jupyter.widget-view+json": {
       "model_id": "5974e8742f05426eaa6b3bfce57dfdac",
       "version_major": 2,
       "version_minor": 0
      },
      "text/plain": [
       "HBox(children=(HTML(value=''), FloatProgress(value=0.0, max=1000.0), HTML(value='')))"
      ]
     },
     "metadata": {},
     "output_type": "display_data"
    },
    {
     "name": "stdout",
     "output_type": "stream",
     "text": [
      "\n"
     ]
    }
   ],
   "source": [
    "import unicodedata\n",
    "html = driver.page_source\n",
    "soup = BeautifulSoup(html, 'lxml')\n",
    "\n",
    "result = []\n",
    "for i in tqdm(range(1000)):\n",
    "\n",
    "    #제목\n",
    "    title = soup.select('a.api_txt_lines.total_tit')[i].text\n",
    "    title = unicodedata.normalize('NFC', title)\n",
    "    \n",
    "    #본문\n",
    "    content = soup.select('div.total_group')[i].text\n",
    "    content = unicodedata.normalize('NFC', content)\n",
    "    \n",
    "    #날짜\n",
    "    date = soup.select('span.sub_time.sub_txt')[i].text\n",
    "    \n",
    "    data = [title, content, date]\n",
    "    result.append(data)\n",
    "\n",
    "\n",
    "results_df = pd.DataFrame(result)\n",
    "results_df.columns = ['title','content','date']\n",
    "results_df.to_excel('../data/blog_homeparty_food.xlsx')"
   ]
  },
  {
   "cell_type": "code",
   "execution_count": 59,
   "metadata": {},
   "outputs": [
    {
     "data": {
      "text/html": [
       "<div>\n",
       "<style scoped>\n",
       "    .dataframe tbody tr th:only-of-type {\n",
       "        vertical-align: middle;\n",
       "    }\n",
       "\n",
       "    .dataframe tbody tr th {\n",
       "        vertical-align: top;\n",
       "    }\n",
       "\n",
       "    .dataframe thead th {\n",
       "        text-align: right;\n",
       "    }\n",
       "</style>\n",
       "<table border=\"1\" class=\"dataframe\">\n",
       "  <thead>\n",
       "    <tr style=\"text-align: right;\">\n",
       "      <th></th>\n",
       "      <th>Unnamed: 0</th>\n",
       "      <th>title</th>\n",
       "      <th>content</th>\n",
       "      <th>date</th>\n",
       "    </tr>\n",
       "  </thead>\n",
       "  <tbody>\n",
       "    <tr>\n",
       "      <th>0</th>\n",
       "      <td>0</td>\n",
       "      <td>밀키트, 피코크 마라샹궈 괜찮아요</td>\n",
       "      <td>요즘 제가 꽂힌 #밀키트 이마트 피코크 마라샹궈에요ㅎ 마라탕은 못먹는데 마라샹...</td>\n",
       "      <td>2020.11.26.</td>\n",
       "    </tr>\n",
       "    <tr>\n",
       "      <th>1</th>\n",
       "      <td>1</td>\n",
       "      <td>국물떡볶이 은영이 떡볶이 캠핑 밀키트도 굳!</td>\n",
       "      <td>캠핑 밀키트도 굳! 아이들 간식으로도 인기만점이지만, 사실 어른들이 더 좋아하...</td>\n",
       "      <td>2020.11.03.</td>\n",
       "    </tr>\n",
       "    <tr>\n",
       "      <th>2</th>\n",
       "      <td>2</td>\n",
       "      <td>경산 간편조리 밀키트 등갈비찜 &amp; 해물누룽지탕 굿</td>\n",
       "      <td>밀키트 정말 잘 나오는군요 ㅎㅎ 그저 레시피대로 따라하면 됩니다 ㅎㅎ 만들고 ...</td>\n",
       "      <td>2020.11.22.</td>\n",
       "    </tr>\n",
       "    <tr>\n",
       "      <th>3</th>\n",
       "      <td>3</td>\n",
       "      <td>부대찌개 밀키트 간편하고 맛있는 창영이 부대찌개</td>\n",
       "      <td>때 밀키트 요리를 많이 이용합니다. 모든 재료가 손질되어 있어 넣고 끓이면 완...</td>\n",
       "      <td>5일 전</td>\n",
       "    </tr>\n",
       "    <tr>\n",
       "      <th>4</th>\n",
       "      <td>4</td>\n",
       "      <td>홈파티음식 잇츠온 밀키트로 양식 한상 뚝딱 준비해요</td>\n",
       "      <td>홈파티음식 잇츠온 밀키트로 양식 한상 뚝딱 준비해요 벌써 올 한해가 훌~쩍.....</td>\n",
       "      <td>3일 전</td>\n",
       "    </tr>\n",
       "    <tr>\n",
       "      <th>...</th>\n",
       "      <td>...</td>\n",
       "      <td>...</td>\n",
       "      <td>...</td>\n",
       "      <td>...</td>\n",
       "    </tr>\n",
       "    <tr>\n",
       "      <th>995</th>\n",
       "      <td>995</td>\n",
       "      <td>하이프레시 밀키트 떡볶이로 집에서 간단한 요리 한상이...</td>\n",
       "      <td>컵밀키트, #시간지정배송 하이프레시를 아시나요? 한국야쿠르트에서 만든 모바일 ...</td>\n",
       "      <td>2020.11.12.</td>\n",
       "    </tr>\n",
       "    <tr>\n",
       "      <th>996</th>\n",
       "      <td>996</td>\n",
       "      <td>간편요리 밀키트 윤가네감자탕으로 한끼 해결</td>\n",
       "      <td>간편요리 밀키트 윤가네감자탕으로 한끼 해결 매일 3끼는 정말 어렵다... 요리...</td>\n",
       "      <td>2020.09.25.</td>\n",
       "    </tr>\n",
       "    <tr>\n",
       "      <th>997</th>\n",
       "      <td>997</td>\n",
       "      <td>냉동피자 노모어피자 밀키트로 맛있게 즐겨요~</td>\n",
       "      <td>냉동피자 노모어피자 밀키트로 맛있게 즐겨요~ 요즘 같을때에는 밀키트 쟁여놓는거...</td>\n",
       "      <td>2020.09.14.</td>\n",
       "    </tr>\n",
       "    <tr>\n",
       "      <th>998</th>\n",
       "      <td>998</td>\n",
       "      <td>누룽지탕 밀키트 샀다</td>\n",
       "      <td>누룽지탕 밀키트 샀다 원래 사던 누룽지탕 밀키트집 말고 다른 곳 시켜봤는데 떼...</td>\n",
       "      <td>2020.08.13.</td>\n",
       "    </tr>\n",
       "    <tr>\n",
       "      <th>999</th>\n",
       "      <td>999</td>\n",
       "      <td>하이프레시 밀키트 차돌박이 메밀소바</td>\n",
       "      <td>날 나무 사랑하는 동동어멈 또 밀키트를 선물해줌ㅋㅋ 페이백이벤트한다고... ㅋ...</td>\n",
       "      <td>2020.08.21.</td>\n",
       "    </tr>\n",
       "  </tbody>\n",
       "</table>\n",
       "<p>1000 rows × 4 columns</p>\n",
       "</div>"
      ],
      "text/plain": [
       "     Unnamed: 0                              title  \\\n",
       "0             0                 밀키트, 피코크 마라샹궈 괜찮아요   \n",
       "1             1           국물떡볶이 은영이 떡볶이 캠핑 밀키트도 굳!   \n",
       "2             2        경산 간편조리 밀키트 등갈비찜 & 해물누룽지탕 굿   \n",
       "3             3         부대찌개 밀키트 간편하고 맛있는 창영이 부대찌개   \n",
       "4             4       홈파티음식 잇츠온 밀키트로 양식 한상 뚝딱 준비해요   \n",
       "..          ...                                ...   \n",
       "995         995  하이프레시 밀키트 떡볶이로 집에서 간단한 요리 한상이...    \n",
       "996         996            간편요리 밀키트 윤가네감자탕으로 한끼 해결   \n",
       "997         997           냉동피자 노모어피자 밀키트로 맛있게 즐겨요~   \n",
       "998         998                        누룽지탕 밀키트 샀다   \n",
       "999         999                하이프레시 밀키트 차돌박이 메밀소바   \n",
       "\n",
       "                                               content         date  \n",
       "0       요즘 제가 꽂힌 #밀키트 이마트 피코크 마라샹궈에요ㅎ 마라탕은 못먹는데 마라샹...  2020.11.26.  \n",
       "1       캠핑 밀키트도 굳! 아이들 간식으로도 인기만점이지만, 사실 어른들이 더 좋아하...  2020.11.03.  \n",
       "2       밀키트 정말 잘 나오는군요 ㅎㅎ 그저 레시피대로 따라하면 됩니다 ㅎㅎ 만들고 ...  2020.11.22.  \n",
       "3       때 밀키트 요리를 많이 이용합니다. 모든 재료가 손질되어 있어 넣고 끓이면 완...         5일 전  \n",
       "4       홈파티음식 잇츠온 밀키트로 양식 한상 뚝딱 준비해요 벌써 올 한해가 훌~쩍.....         3일 전  \n",
       "..                                                 ...          ...  \n",
       "995     컵밀키트, #시간지정배송 하이프레시를 아시나요? 한국야쿠르트에서 만든 모바일 ...  2020.11.12.  \n",
       "996     간편요리 밀키트 윤가네감자탕으로 한끼 해결 매일 3끼는 정말 어렵다... 요리...  2020.09.25.  \n",
       "997     냉동피자 노모어피자 밀키트로 맛있게 즐겨요~ 요즘 같을때에는 밀키트 쟁여놓는거...  2020.09.14.  \n",
       "998     누룽지탕 밀키트 샀다 원래 사던 누룽지탕 밀키트집 말고 다른 곳 시켜봤는데 떼...  2020.08.13.  \n",
       "999     날 나무 사랑하는 동동어멈 또 밀키트를 선물해줌ㅋㅋ 페이백이벤트한다고... ㅋ...  2020.08.21.  \n",
       "\n",
       "[1000 rows x 4 columns]"
      ]
     },
     "execution_count": 59,
     "metadata": {},
     "output_type": "execute_result"
    }
   ],
   "source": [
    "mealkit = pd.read_excel('../data/blog_mealkit.xlsx')\n",
    "mealkit"
   ]
  },
  {
   "cell_type": "code",
   "execution_count": 2,
   "metadata": {},
   "outputs": [
    {
     "name": "stdout",
     "output_type": "stream",
     "text": [
      "../data/blog_mealkit.xlsx\n",
      "../data/blog_mealkit_recomm.xlsx\n",
      "../data/blog_cookingbox.xlsx\n",
      "../data/blog_homeparty_food.xlsx\n"
     ]
    }
   ],
   "source": [
    "import pandas as pd\n",
    "\n",
    "blog_kn = pd.DataFrame( [ ] )\n",
    "\n",
    "f_list = ['../data/blog_mealkit.xlsx',\n",
    "          '../data/blog_mealkit_recomm.xlsx',\n",
    "          '../data/blog_cookingbox.xlsx',\n",
    "          '../data/blog_homeparty_food.xlsx']\n",
    "          \n",
    "          \n",
    "for fname in f_list:\n",
    "    fpath = fname\n",
    "    print(fpath)\n",
    "    temp = pd.read_excel(fpath)\n",
    "    blog_kn = blog_kn.append(temp)\n",
    "\n",
    "blog_kn.columns =['index','title','content','date']"
   ]
  },
  {
   "cell_type": "code",
   "execution_count": 3,
   "metadata": {},
   "outputs": [],
   "source": [
    "blog_kn = blog_kn.reset_index(drop=True,inplace=False)"
   ]
  },
  {
   "cell_type": "code",
   "execution_count": 4,
   "metadata": {},
   "outputs": [],
   "source": [
    "del blog_kn['index']"
   ]
  },
  {
   "cell_type": "code",
   "execution_count": 5,
   "metadata": {},
   "outputs": [
    {
     "data": {
      "text/html": [
       "<div>\n",
       "<style scoped>\n",
       "    .dataframe tbody tr th:only-of-type {\n",
       "        vertical-align: middle;\n",
       "    }\n",
       "\n",
       "    .dataframe tbody tr th {\n",
       "        vertical-align: top;\n",
       "    }\n",
       "\n",
       "    .dataframe thead th {\n",
       "        text-align: right;\n",
       "    }\n",
       "</style>\n",
       "<table border=\"1\" class=\"dataframe\">\n",
       "  <thead>\n",
       "    <tr style=\"text-align: right;\">\n",
       "      <th></th>\n",
       "      <th>title</th>\n",
       "      <th>content</th>\n",
       "      <th>date</th>\n",
       "    </tr>\n",
       "  </thead>\n",
       "  <tbody>\n",
       "    <tr>\n",
       "      <th>0</th>\n",
       "      <td>밀키트, 피코크 마라샹궈 괜찮아요</td>\n",
       "      <td>요즘 제가 꽂힌 #밀키트 이마트 피코크 마라샹궈에요ㅎ 마라탕은 못먹는데 마라샹...</td>\n",
       "      <td>2020.11.26.</td>\n",
       "    </tr>\n",
       "    <tr>\n",
       "      <th>1</th>\n",
       "      <td>국물떡볶이 은영이 떡볶이 캠핑 밀키트도 굳!</td>\n",
       "      <td>캠핑 밀키트도 굳! 아이들 간식으로도 인기만점이지만, 사실 어른들이 더 좋아하...</td>\n",
       "      <td>2020.11.03.</td>\n",
       "    </tr>\n",
       "    <tr>\n",
       "      <th>2</th>\n",
       "      <td>경산 간편조리 밀키트 등갈비찜 &amp; 해물누룽지탕 굿</td>\n",
       "      <td>밀키트 정말 잘 나오는군요 ㅎㅎ 그저 레시피대로 따라하면 됩니다 ㅎㅎ 만들고 ...</td>\n",
       "      <td>2020.11.22.</td>\n",
       "    </tr>\n",
       "    <tr>\n",
       "      <th>3</th>\n",
       "      <td>부대찌개 밀키트 간편하고 맛있는 창영이 부대찌개</td>\n",
       "      <td>때 밀키트 요리를 많이 이용합니다. 모든 재료가 손질되어 있어 넣고 끓이면 완...</td>\n",
       "      <td>5일 전</td>\n",
       "    </tr>\n",
       "    <tr>\n",
       "      <th>4</th>\n",
       "      <td>홈파티음식 잇츠온 밀키트로 양식 한상 뚝딱 준비해요</td>\n",
       "      <td>홈파티음식 잇츠온 밀키트로 양식 한상 뚝딱 준비해요 벌써 올 한해가 훌~쩍.....</td>\n",
       "      <td>3일 전</td>\n",
       "    </tr>\n",
       "    <tr>\n",
       "      <th>...</th>\n",
       "      <td>...</td>\n",
       "      <td>...</td>\n",
       "      <td>...</td>\n",
       "    </tr>\n",
       "    <tr>\n",
       "      <th>3995</th>\n",
       "      <td>잇츠온 양식 밀키트 홈파티 세트로 미리 크리스마스 파티!</td>\n",
       "      <td>맛있게 파티음식을 차릴 수 있다면 자주 이용할 의사가 있어요. 파티음식을......</td>\n",
       "      <td>3일 전</td>\n",
       "    </tr>\n",
       "    <tr>\n",
       "      <th>3996</th>\n",
       "      <td>※집에서도 예쁘게 홈파티음식 만들기!</td>\n",
       "      <td>해서 홈 파티를 하게 되었습니다. 홈 파티 음식 추천! 홈 파티 음식을 준비하...</td>\n",
       "      <td>2020.09.03.</td>\n",
       "    </tr>\n",
       "    <tr>\n",
       "      <th>3997</th>\n",
       "      <td>(6) : 어스, 핸드위치 US, HANDWICH 배달 / 나홀로 홈파티 무드</td>\n",
       "      <td>연말인데 금요일인데 혼자 있으려니 적적해서 혼자 홈파티를 해보기로 한다. 파티...</td>\n",
       "      <td>어제</td>\n",
       "    </tr>\n",
       "    <tr>\n",
       "      <th>3998</th>\n",
       "      <td>광주 화정동 맛집 홈파티 음식으로 테스팅노트</td>\n",
       "      <td>미리 전화로 12시까지 찾으러 간다 예약하고 갔었는데 딱 맞게 나와서 음식이....</td>\n",
       "      <td>2020.09.18.</td>\n",
       "    </tr>\n",
       "    <tr>\n",
       "      <th>3999</th>\n",
       "      <td>홈파티음식 핑거푸드 카나페만들기</td>\n",
       "      <td>안녕하세요~ 한글날도 지나고 벌써 월요일이네요^^ 오늘은 홈파티음식 크랩카나페...</td>\n",
       "      <td>2020.10.12.</td>\n",
       "    </tr>\n",
       "  </tbody>\n",
       "</table>\n",
       "<p>4000 rows × 3 columns</p>\n",
       "</div>"
      ],
      "text/plain": [
       "                                            title  \\\n",
       "0                              밀키트, 피코크 마라샹궈 괜찮아요   \n",
       "1                        국물떡볶이 은영이 떡볶이 캠핑 밀키트도 굳!   \n",
       "2                     경산 간편조리 밀키트 등갈비찜 & 해물누룽지탕 굿   \n",
       "3                      부대찌개 밀키트 간편하고 맛있는 창영이 부대찌개   \n",
       "4                    홈파티음식 잇츠온 밀키트로 양식 한상 뚝딱 준비해요   \n",
       "...                                           ...   \n",
       "3995              잇츠온 양식 밀키트 홈파티 세트로 미리 크리스마스 파티!   \n",
       "3996                         ※집에서도 예쁘게 홈파티음식 만들기!   \n",
       "3997  (6) : 어스, 핸드위치 US, HANDWICH 배달 / 나홀로 홈파티 무드   \n",
       "3998                     광주 화정동 맛집 홈파티 음식으로 테스팅노트   \n",
       "3999                            홈파티음식 핑거푸드 카나페만들기   \n",
       "\n",
       "                                                content         date  \n",
       "0        요즘 제가 꽂힌 #밀키트 이마트 피코크 마라샹궈에요ㅎ 마라탕은 못먹는데 마라샹...  2020.11.26.  \n",
       "1        캠핑 밀키트도 굳! 아이들 간식으로도 인기만점이지만, 사실 어른들이 더 좋아하...  2020.11.03.  \n",
       "2        밀키트 정말 잘 나오는군요 ㅎㅎ 그저 레시피대로 따라하면 됩니다 ㅎㅎ 만들고 ...  2020.11.22.  \n",
       "3        때 밀키트 요리를 많이 이용합니다. 모든 재료가 손질되어 있어 넣고 끓이면 완...         5일 전  \n",
       "4        홈파티음식 잇츠온 밀키트로 양식 한상 뚝딱 준비해요 벌써 올 한해가 훌~쩍.....         3일 전  \n",
       "...                                                 ...          ...  \n",
       "3995     맛있게 파티음식을 차릴 수 있다면 자주 이용할 의사가 있어요. 파티음식을......         3일 전  \n",
       "3996     해서 홈 파티를 하게 되었습니다. 홈 파티 음식 추천! 홈 파티 음식을 준비하...  2020.09.03.  \n",
       "3997     연말인데 금요일인데 혼자 있으려니 적적해서 혼자 홈파티를 해보기로 한다. 파티...           어제  \n",
       "3998     미리 전화로 12시까지 찾으러 간다 예약하고 갔었는데 딱 맞게 나와서 음식이....  2020.09.18.  \n",
       "3999     안녕하세요~ 한글날도 지나고 벌써 월요일이네요^^ 오늘은 홈파티음식 크랩카나페...  2020.10.12.  \n",
       "\n",
       "[4000 rows x 3 columns]"
      ]
     },
     "execution_count": 5,
     "metadata": {},
     "output_type": "execute_result"
    }
   ],
   "source": [
    "blog_kn"
   ]
  },
  {
   "cell_type": "code",
   "execution_count": 6,
   "metadata": {
    "scrolled": true
   },
   "outputs": [
    {
     "name": "stdout",
     "output_type": "stream",
     "text": [
      "                                            title  \\\n",
      "0                              밀키트, 피코크 마라샹궈 괜찮아요   \n",
      "1                        국물떡볶이 은영이 떡볶이 캠핑 밀키트도 굳!   \n",
      "2                     경산 간편조리 밀키트 등갈비찜 & 해물누룽지탕 굿   \n",
      "3                      부대찌개 밀키트 간편하고 맛있는 창영이 부대찌개   \n",
      "4                    홈파티음식 잇츠온 밀키트로 양식 한상 뚝딱 준비해요   \n",
      "...                                           ...   \n",
      "3994             연말 홈파티 음식에 진심인 사옹원에서 간편하게 준비 끝!!   \n",
      "3996                         ※집에서도 예쁘게 홈파티음식 만들기!   \n",
      "3997  (6) : 어스, 핸드위치 US, HANDWICH 배달 / 나홀로 홈파티 무드   \n",
      "3998                     광주 화정동 맛집 홈파티 음식으로 테스팅노트   \n",
      "3999                            홈파티음식 핑거푸드 카나페만들기   \n",
      "\n",
      "                                                content         date  \n",
      "0        요즘 제가 꽂힌 #밀키트 이마트 피코크 마라샹궈에요ㅎ 마라탕은 못먹는데 마라샹...  2020.11.26.  \n",
      "1        캠핑 밀키트도 굳! 아이들 간식으로도 인기만점이지만, 사실 어른들이 더 좋아하...  2020.11.03.  \n",
      "2        밀키트 정말 잘 나오는군요 ㅎㅎ 그저 레시피대로 따라하면 됩니다 ㅎㅎ 만들고 ...  2020.11.22.  \n",
      "3        때 밀키트 요리를 많이 이용합니다. 모든 재료가 손질되어 있어 넣고 끓이면 완...         5일 전  \n",
      "4        홈파티음식 잇츠온 밀키트로 양식 한상 뚝딱 준비해요 벌써 올 한해가 훌~쩍.....         3일 전  \n",
      "...                                                 ...          ...  \n",
      "3994     연말홈파티 음식을 정말 초간편하게 준비해봤는데요~ 조리랄 것 없는 요리 과정으...  2020.12.08.  \n",
      "3996     해서 홈 파티를 하게 되었습니다. 홈 파티 음식 추천! 홈 파티 음식을 준비하...  2020.09.03.  \n",
      "3997     연말인데 금요일인데 혼자 있으려니 적적해서 혼자 홈파티를 해보기로 한다. 파티...           어제  \n",
      "3998     미리 전화로 12시까지 찾으러 간다 예약하고 갔었는데 딱 맞게 나와서 음식이....  2020.09.18.  \n",
      "3999     안녕하세요~ 한글날도 지나고 벌써 월요일이네요^^ 오늘은 홈파티음식 크랩카나페...  2020.10.12.  \n",
      "\n",
      "[3593 rows x 3 columns]\n"
     ]
    }
   ],
   "source": [
    "blog_kn.drop_duplicates(subset = [\"title\"], inplace = True)\n",
    "print(blog_kn)\n",
    "blog_kn.to_excel('../data/crawling_blog_kn.xlsx', index = False)"
   ]
  },
  {
   "cell_type": "code",
   "execution_count": 15,
   "metadata": {},
   "outputs": [
    {
     "data": {
      "text/plain": [
       "3593"
      ]
     },
     "execution_count": 15,
     "metadata": {},
     "output_type": "execute_result"
    }
   ],
   "source": [
    "len(blog_kn)"
   ]
  },
  {
   "cell_type": "code",
   "execution_count": 25,
   "metadata": {},
   "outputs": [
    {
     "data": {
      "text/plain": [
       "151"
      ]
     },
     "execution_count": 25,
     "metadata": {},
     "output_type": "execute_result"
    }
   ],
   "source": [
    "fresheasy = blog_kn['content'].str.contains('프레시지|fresheasy|Fresheasy|FRESHEASY|프레시이지')\n",
    "fresh_count = blog_kn[fresheasy]\n",
    "len(fresh_count)"
   ]
  },
  {
   "cell_type": "code",
   "execution_count": 21,
   "metadata": {},
   "outputs": [
    {
     "data": {
      "text/html": [
       "<div>\n",
       "<style scoped>\n",
       "    .dataframe tbody tr th:only-of-type {\n",
       "        vertical-align: middle;\n",
       "    }\n",
       "\n",
       "    .dataframe tbody tr th {\n",
       "        vertical-align: top;\n",
       "    }\n",
       "\n",
       "    .dataframe thead th {\n",
       "        text-align: right;\n",
       "    }\n",
       "</style>\n",
       "<table border=\"1\" class=\"dataframe\">\n",
       "  <thead>\n",
       "    <tr style=\"text-align: right;\">\n",
       "      <th></th>\n",
       "      <th>title</th>\n",
       "      <th>content</th>\n",
       "      <th>date</th>\n",
       "    </tr>\n",
       "  </thead>\n",
       "  <tbody>\n",
       "    <tr>\n",
       "      <th>15</th>\n",
       "      <td>프레시지 뿌팟퐁커리 밀키트 집에서 즐기는 타이음식</td>\n",
       "      <td>프레시지 뿌팟퐁커리 밀키트 집에서 즐기는 타이음식 가끔씩 즐기던 여행이... ...</td>\n",
       "      <td>2020.11.03.</td>\n",
       "    </tr>\n",
       "    <tr>\n",
       "      <th>34</th>\n",
       "      <td>프레시지 밀키트 티본 스테이크 &amp; 파스타 우리집 홈파티메뉴 :)</td>\n",
       "      <td>요즘 냉동,냉장실에 자리잡은 프레시지 밀키트홈파티메뉴 로 기분도 낼수 있고, ...</td>\n",
       "      <td>2일 전</td>\n",
       "    </tr>\n",
       "    <tr>\n",
       "      <th>42</th>\n",
       "      <td>주말저녁메뉴 프레시지 밀키트 블랙라벨 스테이크</td>\n",
       "      <td>주말저녁메뉴 프레시지 밀키트 블랙라벨 스테이크 온라인 마켓에서 프레시지... ...</td>\n",
       "      <td>3일 전</td>\n",
       "    </tr>\n",
       "    <tr>\n",
       "      <th>65</th>\n",
       "      <td>소고기 야끼소바 _ 노브랜드 밀키트</td>\n",
       "      <td>이보다 편할 수 없다 노브랜드에서 프레시지 소고기 야끼소바 구입했어요 만드는 ...</td>\n",
       "      <td>2020.12.04.</td>\n",
       "    </tr>\n",
       "    <tr>\n",
       "      <th>93</th>\n",
       "      <td>연말 홈파티 음식; 프레시지 밀푀유나베 밀키트</td>\n",
       "      <td>#프레시지 #프레시지밀키트 #밀푀유나베 #파티음식 #연말파티 #홈파티 #음식준...</td>\n",
       "      <td>어제</td>\n",
       "    </tr>\n",
       "    <tr>\n",
       "      <th>...</th>\n",
       "      <td>...</td>\n",
       "      <td>...</td>\n",
       "      <td>...</td>\n",
       "    </tr>\n",
       "    <tr>\n",
       "      <th>3379</th>\n",
       "      <td>홈파티음식 10분완성 프레시지 밀키트...</td>\n",
       "      <td>홈파티음식 10분완성 프레시지 밀키트 스노윙치즈빠네찹스테이크 글/사진 앨리스....</td>\n",
       "      <td>2020.05.23.</td>\n",
       "    </tr>\n",
       "    <tr>\n",
       "      <th>3430</th>\n",
       "      <td>프레시지 신메뉴 밀키트, 홈파티음식...</td>\n",
       "      <td>발라둔 빵도 달콤하고 풍미가 좋아서 너무 잘 어우러지더라고요 #프레시지 #밀키...</td>\n",
       "      <td>2020.05.25.</td>\n",
       "    </tr>\n",
       "    <tr>\n",
       "      <th>3558</th>\n",
       "      <td>홈파티음식 프레시지밀키트 이용해 뚝딱</td>\n",
       "      <td>제가 홈파티음식 준비한 프레시지밀키트 외에 여러가지 간편 음식들을 구입할 수....</td>\n",
       "      <td>2020.09.23.</td>\n",
       "    </tr>\n",
       "    <tr>\n",
       "      <th>3643</th>\n",
       "      <td>프레시지 밀키트로 홈파티 미싱더시티 이탈리아 티본스테이크</td>\n",
       "      <td>연말 홈파티 분위기 좀 내봤어요 : ) 프레시지 밀키트 미싱더시티 피렌체를.....</td>\n",
       "      <td>2시간 전</td>\n",
       "    </tr>\n",
       "    <tr>\n",
       "      <th>3686</th>\n",
       "      <td>프레시지 블랙라벨 스테이크 홈파티 음식 좋구나</td>\n",
       "      <td>알아본 음식 바로 프레시지 입니다. 프레시지 블랙라벨 스테이크 홈파티 음식으로...</td>\n",
       "      <td>2020.03.11.</td>\n",
       "    </tr>\n",
       "  </tbody>\n",
       "</table>\n",
       "<p>150 rows × 3 columns</p>\n",
       "</div>"
      ],
      "text/plain": [
       "                                    title  \\\n",
       "15            프레시지 뿌팟퐁커리 밀키트 집에서 즐기는 타이음식   \n",
       "34    프레시지 밀키트 티본 스테이크 & 파스타 우리집 홈파티메뉴 :)   \n",
       "42              주말저녁메뉴 프레시지 밀키트 블랙라벨 스테이크   \n",
       "65                    소고기 야끼소바 _ 노브랜드 밀키트   \n",
       "93              연말 홈파티 음식; 프레시지 밀푀유나베 밀키트   \n",
       "...                                   ...   \n",
       "3379             홈파티음식 10분완성 프레시지 밀키트...    \n",
       "3430              프레시지 신메뉴 밀키트, 홈파티음식...    \n",
       "3558                 홈파티음식 프레시지밀키트 이용해 뚝딱   \n",
       "3643      프레시지 밀키트로 홈파티 미싱더시티 이탈리아 티본스테이크   \n",
       "3686            프레시지 블랙라벨 스테이크 홈파티 음식 좋구나   \n",
       "\n",
       "                                                content         date  \n",
       "15       프레시지 뿌팟퐁커리 밀키트 집에서 즐기는 타이음식 가끔씩 즐기던 여행이... ...  2020.11.03.  \n",
       "34       요즘 냉동,냉장실에 자리잡은 프레시지 밀키트홈파티메뉴 로 기분도 낼수 있고, ...         2일 전  \n",
       "42       주말저녁메뉴 프레시지 밀키트 블랙라벨 스테이크 온라인 마켓에서 프레시지... ...         3일 전  \n",
       "65       이보다 편할 수 없다 노브랜드에서 프레시지 소고기 야끼소바 구입했어요 만드는 ...  2020.12.04.  \n",
       "93       #프레시지 #프레시지밀키트 #밀푀유나베 #파티음식 #연말파티 #홈파티 #음식준...           어제  \n",
       "...                                                 ...          ...  \n",
       "3379     홈파티음식 10분완성 프레시지 밀키트 스노윙치즈빠네찹스테이크 글/사진 앨리스....  2020.05.23.  \n",
       "3430     발라둔 빵도 달콤하고 풍미가 좋아서 너무 잘 어우러지더라고요 #프레시지 #밀키...  2020.05.25.  \n",
       "3558     제가 홈파티음식 준비한 프레시지밀키트 외에 여러가지 간편 음식들을 구입할 수....  2020.09.23.  \n",
       "3643     연말 홈파티 분위기 좀 내봤어요 : ) 프레시지 밀키트 미싱더시티 피렌체를.....        2시간 전  \n",
       "3686     알아본 음식 바로 프레시지 입니다. 프레시지 블랙라벨 스테이크 홈파티 음식으로...  2020.03.11.  \n",
       "\n",
       "[150 rows x 3 columns]"
      ]
     },
     "execution_count": 21,
     "metadata": {},
     "output_type": "execute_result"
    }
   ],
   "source": [
    "fresh_count"
   ]
  },
  {
   "cell_type": "code",
   "execution_count": 22,
   "metadata": {},
   "outputs": [
    {
     "ename": "SyntaxError",
     "evalue": "invalid syntax (<ipython-input-22-527e9a034f01>, line 1)",
     "output_type": "error",
     "traceback": [
      "\u001b[1;36m  File \u001b[1;32m\"<ipython-input-22-527e9a034f01>\"\u001b[1;36m, line \u001b[1;32m1\u001b[0m\n\u001b[1;33m    블로그 관련 키워드 총 3593개\u001b[0m\n\u001b[1;37m         ^\u001b[0m\n\u001b[1;31mSyntaxError\u001b[0m\u001b[1;31m:\u001b[0m invalid syntax\n"
     ]
    }
   ],
   "source": [
    "블로그 관련 키워드 총 3593개\n",
    "그 중에 타이틀에 프레시지가 들어간 행의 개수 151개"
   ]
  },
  {
   "cell_type": "code",
   "execution_count": 26,
   "metadata": {},
   "outputs": [
    {
     "data": {
      "text/plain": [
       "4.2"
      ]
     },
     "execution_count": 26,
     "metadata": {},
     "output_type": "execute_result"
    }
   ],
   "source": [
    "round(151/3593*100,2)"
   ]
  },
  {
   "cell_type": "code",
   "execution_count": 34,
   "metadata": {},
   "outputs": [],
   "source": [
    "from matplotlib import font_manager, rc\n",
    "\n",
    "f_path = 'C:/Windows/Fonts/malgun.ttf'\n",
    "font_name = font_manager.FontProperties(fname = f_path).get_name()\n",
    "rc('font', family = font_name)\n",
    "\n",
    "%matplotlib inline\n",
    "import matplotlib.pyplot as plt"
   ]
  },
  {
   "cell_type": "code",
   "execution_count": 35,
   "metadata": {},
   "outputs": [
    {
     "data": {
      "image/png": "[encoded data removed]",
      "text/plain": [
       "<Figure size 432x288 with 1 Axes>"
      ]
     },
     "metadata": {},
     "output_type": "display_data"
    }
   ],
   "source": [
    "labels = '프레시지',' '\n",
    "sizes = [4.2,95.8]\n",
    "colors = ['yellowgreen','grey']\n",
    "explode = (0,0.2)\n",
    "plt.pie(sizes, explode=explode, labels=labels, colors=colors, autopct='%1.1f%%',shadow =True, startangle = 410)\n",
    "plt.axis('equal')\n",
    "plt.show()"
   ]
  },
  {
   "cell_type": "code",
   "execution_count": null,
   "metadata": {},
   "outputs": [],
   "source": []
  }
 ],
 "metadata": {
  "kernelspec": {
   "display_name": "Python 3",
   "language": "python",
   "name": "python3"
  },
  "language_info": {
   "codemirror_mode": {
    "name": "ipython",
    "version": 3
   },
   "file_extension": ".py",
   "mimetype": "text/x-python",
   "name": "python",
   "nbconvert_exporter": "python",
   "pygments_lexer": "ipython3",
   "version": "3.7.0"
  }
 },
 "nbformat": 4,
 "nbformat_minor": 4
}
