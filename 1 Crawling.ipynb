{
 "cells": [
  {
   "cell_type": "markdown",
   "metadata": {},
   "source": [
    "# 1 Import Library"
   ]
  },
  {
   "cell_type": "code",
   "execution_count": null,
   "metadata": {
    "ExecuteTime": {
     "end_time": "2021-03-05T05:14:57.405362Z",
     "start_time": "2021-03-05T05:14:57.381401Z"
    }
   },
   "outputs": [],
   "source": [
    "from selenium import webdriver\n",
    "from selenium.webdriver.common.by import By\n",
    "from selenium.webdriver.support.ui import WebDriverWait\n",
    "from selenium.webdriver.support import expected_conditions as EC\n",
    "\n",
    "from bs4 import BeautifulSoup\n",
    "from unicodedata import normalize\n",
    "from wordcloud import WordCloud\n",
    "from tqdm.notebook import tqdm\n",
    "from collections import Counter\n",
    "from matplotlib import font_manager, rc\n",
    "import matplotlib.pyplot as plt\n",
    "import pandas as pd\n",
    "import seaborn as sns\n",
    "import unicodedata\n",
    "import time\n",
    "import re\n",
    "import sys\n",
    "import os\n",
    "import platform\n",
    "import warnings"
   ]
  },
  {
   "cell_type": "code",
   "execution_count": null,
   "metadata": {
    "ExecuteTime": {
     "end_time": "2021-03-05T05:12:56.901959Z",
     "start_time": "2021-03-05T05:12:56.883490Z"
    }
   },
   "outputs": [],
   "source": [
    "# 한글 깨짐 방지\n",
    "path = \"c:/Windows/Fonts/NANUMBARUNGOTHIC.ttf\"\n",
    "from matplotlib import font_manager, rc\n",
    "if platform.system() == 'Darwin':\n",
    "    rc('font', family='AppleGothic')\n",
    "elif platform.system() == 'Windows':\n",
    "    font_name = font_manager.FontProperties(fname=path).get_name()\n",
    "    rc('font', family=font_name)\n",
    "else:\n",
    "    print('Unknown system... sorry~~~~')    \n",
    "\n",
    "plt.rcParams['axes.unicode_minus'] = False"
   ]
  },
  {
   "cell_type": "markdown",
   "metadata": {},
   "source": [
    "# 2 Crawling"
   ]
  },
  {
   "cell_type": "markdown",
   "metadata": {},
   "source": [
    "## 2.1 Instagram Crawling"
   ]
  },
  {
   "cell_type": "markdown",
   "metadata": {},
   "source": [
    "### 2.1.1 함수 정의"
   ]
  },
  {
   "cell_type": "code",
   "execution_count": 9,
   "metadata": {
    "ExecuteTime": {
     "end_time": "2020-12-21T07:38:18.411872Z",
     "start_time": "2020-12-21T07:38:18.406870Z"
    }
   },
   "outputs": [],
   "source": [
    "def insta_searching(word):\n",
    "    url = 'https://www.instagram.com/explore/tags/' + word\n",
    "    return url"
   ]
  },
  {
   "cell_type": "code",
   "execution_count": 11,
   "metadata": {
    "ExecuteTime": {
     "end_time": "2020-12-21T07:39:02.616914Z",
     "start_time": "2020-12-21T07:38:59.421499Z"
    }
   },
   "outputs": [],
   "source": [
    "def select_first(driver):\n",
    "    first = driver.find_element_by_css_selector('div._9AhH0')\n",
    "    first.click()\n",
    "    time.sleep(3)\n",
    "\n",
    "select_first(driver)"
   ]
  },
  {
   "cell_type": "code",
   "execution_count": null,
   "metadata": {},
   "outputs": [],
   "source": [
    "def move_next(driver):\n",
    "    right = driver.find_element_by_css_selector(\n",
    "        'a._65Bje.coreSpriteRightPaginationArrow')\n",
    "    right.click()\n",
    "    time.sleep(3)"
   ]
  },
  {
   "cell_type": "code",
   "execution_count": 1,
   "metadata": {
    "ExecuteTime": {
     "end_time": "2021-03-05T05:10:06.358958Z",
     "start_time": "2021-03-05T05:10:06.344995Z"
    }
   },
   "outputs": [],
   "source": [
    "def get_content(driver):\n",
    "    html = driver.page_source\n",
    "    soup = BeautifulSoup(html, 'lxml')\n",
    "\n",
    "    # 1. 본문내용\n",
    "    try:\n",
    "        content = soup.select('div.C4VMK > span')[0].text\n",
    "        content = unicodedata.normalize('NFC', content)\n",
    "\n",
    "    except:\n",
    "        content = ' ' \n",
    "\n",
    "    # 2. 본문 내용 해시태그(정규식 활용)\n",
    "    tags = re.findall(r'#[^\\s#,\\\\]+', content)\n",
    "\n",
    "    # 3. 작성일시\n",
    "    date = soup.select('time._1o9PC.Nzb55')[0]['datetime'][:10]\n",
    "\n",
    "    # 4. 좋아요수\n",
    "    try:\n",
    "        like = soup.select('div.Nm9Fw > button')[0].text[4:-1]\n",
    "    except:\n",
    "        like = 0\n",
    "\n",
    "    # 5. 위치정보\n",
    "    try:\n",
    "        place = soup.select('div.M30cS')[0].text\n",
    "        place = unicodedata.normalize('NFC', place)\n",
    "\n",
    "    except:\n",
    "        place = ''\n",
    "\n",
    "    # 6. 수집한 정보 저장하기\n",
    "    data = [content, tags, date, like, place]\n",
    "    return data"
   ]
  },
  {
   "cell_type": "markdown",
   "metadata": {},
   "source": [
    "### 2.1.2 word \"프레시지\""
   ]
  },
  {
   "cell_type": "code",
   "execution_count": 2,
   "metadata": {
    "ExecuteTime": {
     "end_time": "2020-12-21T07:38:01.751408Z",
     "start_time": "2020-12-21T07:37:58.321313Z"
    }
   },
   "outputs": [],
   "source": [
    "driver = webdriver.Chrome('../driver/chromedriver.exe')\n",
    "driver.get('https://www.instagram.com')\n",
    "time.sleep(2)"
   ]
  },
  {
   "cell_type": "code",
   "execution_count": 8,
   "metadata": {
    "ExecuteTime": {
     "end_time": "2020-12-21T07:38:10.134334Z",
     "start_time": "2020-12-21T07:38:06.675124Z"
    }
   },
   "outputs": [],
   "source": [
    "email = '********'\n",
    "input_id = driver.find_elements_by_css_selector('input._2hvTZ.pexuQ.zyHYP')[0]\n",
    "input_id.clear()\n",
    "input_id.send_keys(email)\n",
    "\n",
    "password = '********'\n",
    "input_pw = driver.find_elements_by_css_selector('input._2hvTZ.pexuQ.zyHYP')[1]\n",
    "input_pw.clear()\n",
    "input_pw.send_keys(password)\n",
    "\n",
    "input_pw.submit()\n",
    "time.sleep(3)"
   ]
  },
  {
   "cell_type": "code",
   "execution_count": 10,
   "metadata": {
    "ExecuteTime": {
     "end_time": "2020-12-21T07:38:49.744726Z",
     "start_time": "2020-12-21T07:38:46.820189Z"
    }
   },
   "outputs": [],
   "source": [
    "word = '프레시지'\n",
    "url = insta_searching(word)\n",
    "driver.get(url)"
   ]
  },
  {
   "cell_type": "code",
   "execution_count": 19,
   "metadata": {
    "ExecuteTime": {
     "end_time": "2020-12-21T07:52:20.585178Z",
     "start_time": "2020-12-21T07:42:13.759949Z"
    },
    "scrolled": true
   },
   "outputs": [
    {
     "data": {
      "application/vnd.jupyter.widget-view+json": {
       "model_id": "d614be21df1d4ae9a5c0e07147bb5ff2",
       "version_major": 2,
       "version_minor": 0
      },
      "text/plain": [
       "HBox(children=(HTML(value=''), FloatProgress(value=0.0, max=1000.0), HTML(value='')))"
      ]
     },
     "metadata": {},
     "output_type": "display_data"
    },
    {
     "name": "stdout",
     "output_type": "stream",
     "text": [
      "\n",
      "[['#금집네-브로콜리세척하기귀찮아계속냉장고에방치해놨더니예쁜프리지아될뻔🌼먹어도갠찮겠지,,🙇🏻\\u200d♀️--#눈뜨자마자빨간맛#프레시지#짬뽕순두부#계란장조림#고추부각', ['#금집네-브로콜리세척하기귀찮아계속냉장고에방치해놨더니예쁜프리지아될뻔🌼먹어도갠찮겠지', '#눈뜨자마자빨간맛', '#프레시지', '#짬뽕순두부', '#계란장조림', '#고추부각'], '2020-12-19', '1,185', '우리집'], ['#신짱키친🎁홈파티 메리 투 스테이크 세트“(42,600원👉🏻27,900원)= 35%할인중”.🌐”YouTube” 신짱키친[SJJANG KitChen]에 오시면 더 많은 영상을 보실수 있습니다...🎉세트구성- 피에스타 스테이크 2개- 쉬림프 로제파스타 1개- 리코타치즈 샐러드 1개🚀무료배송입니다..맛있으니깐 믿고 드세유!!홈파티 메리 투 스테이크 세트는2명에서 먹기 딱 좋아요👍🏻(링크 클릭이 안되시는분들은)“인스타를 끄고 다시 켜보시면 됩니다”안스타의 오류에유 그게ㅠㅠㅠㅠㅠ이번 크리스마스는 메리 투 스테이크세트로 배부르게 보내봅시다🐷🐷.✅”메리 투 스테이크 세트” 구매는 프로필 링크 Click!..#홈파티음식 #소고기스테이크 #쉬림프로제파스타 #스테이크세트 #프레시지 #윙잇 #쿠킹박스 #밀키트 #크리스마스이벤트 #크리스마스할인 #크리스마스파티 #연말파티 #요리영상 #요리촬영 #마미스팟그릴 #간편요리 #간단한요리 #steaks #마미스팟', ['#신짱키친🎁홈파티', '#홈파티음식', '#소고기스테이크', '#쉬림프로제파스타', '#스테이크세트', '#프레시지', '#윙잇', '#쿠킹박스', '#밀키트', '#크리스마스이벤트', '#크리스마스할인', '#크리스마스파티', '#연말파티', '#요리영상', '#요리촬영', '#마미스팟그릴', '#간편요리', '#간단한요리', '#steaks', '#마미스팟'], '2019-12-16', '3,353', '']]\n"
     ]
    }
   ],
   "source": [
    "# 인스타그램 검색 페이지 URL 만들기\n",
    "word = '프레시지'\n",
    "url = insta_searching(word)\n",
    "\n",
    "driver.get(url)\n",
    "time.sleep(3)\n",
    "\n",
    "# 첫 번째 게시글 열기\n",
    "select_first(driver)\n",
    "\n",
    "# 비어 있는 변수(result) 만들기\n",
    "result = []\n",
    "\n",
    "# 여러 게시물 수집하기\n",
    "target = 1000\n",
    "\n",
    "for i in tqdm(range(target)):\n",
    "    try:\n",
    "        data = get_content(driver)\n",
    "        result.append(data)\n",
    "        move_next(driver)\n",
    "\n",
    "    except:\n",
    "        time.sleep(2)\n",
    "        move_next(driver)\n",
    "\n",
    "print(result[:2])"
   ]
  },
  {
   "cell_type": "code",
   "execution_count": 20,
   "metadata": {},
   "outputs": [
    {
     "data": {
      "text/plain": [
       "979"
      ]
     },
     "execution_count": 20,
     "metadata": {},
     "output_type": "execute_result"
    }
   ],
   "source": [
    "len(result)"
   ]
  },
  {
   "cell_type": "code",
   "execution_count": 38,
   "metadata": {},
   "outputs": [],
   "source": [
    "result_df = pd.DataFrame(result)\n",
    "result_df.columns = ['content', 'tags', 'date', 'like', 'place']\n",
    "result_df.to_excel('../output/fresheasy.xlsx')\n",
    "driver.close()"
   ]
  },
  {
   "cell_type": "markdown",
   "metadata": {},
   "source": [
    "### 2.1.3 word \"프레시지밀키트\""
   ]
  },
  {
   "cell_type": "code",
   "execution_count": 34,
   "metadata": {},
   "outputs": [],
   "source": [
    "driver = webdriver.Chrome('../driver/chromedriver.exe')\n",
    "\n",
    "driver.get('https://www.instagram.com')\n",
    "time.sleep(2)\n",
    "\n",
    "email = '********'\n",
    "input_id = driver.find_elements_by_css_selector('input._2hvTZ.pexuQ.zyHYP')[0]\n",
    "input_id.clear()\n",
    "input_id.send_keys(email)\n",
    "\n",
    "password = '********'\n",
    "input_pw = driver.find_elements_by_css_selector('input._2hvTZ.pexuQ.zyHYP')[1]\n",
    "input_pw.clear()\n",
    "input_pw.send_keys(password)\n",
    "\n",
    "input_pw.submit()\n",
    "time.sleep(3)"
   ]
  },
  {
   "cell_type": "code",
   "execution_count": 30,
   "metadata": {},
   "outputs": [
    {
     "data": {
      "application/vnd.jupyter.widget-view+json": {
       "model_id": "2f3bff0e99174e2eb1eddb2d43d3d9f2",
       "version_major": 2,
       "version_minor": 0
      },
      "text/plain": [
       "HBox(children=(HTML(value=''), FloatProgress(value=0.0, max=500.0), HTML(value='')))"
      ]
     },
     "metadata": {},
     "output_type": "display_data"
    },
    {
     "name": "stdout",
     "output_type": "stream",
     "text": [
      "\n",
      "[['#저녁밥상 #저녁밥상메뉴 #함박스테이크추천⠀쿠팡에서 판매하는 함박이너무 리뷰가 좋아서한번 구매해봤어요야채까지 있는 밀키트라서너무좋더라구요!!더좋은건 보통 냉동 함박은ㅠ납작하고 햄같은 느낌인데요건 딱 수제 느낌ㄷㄷ너무 맛있게 한끼 잘먹었어윱😍함박 밀키트 ➡️ 쿠팡 프레시지#밥상스타그램 #밥집추천 #집밥스타그램 #집밥🍚 #함박스텍 #함박스테이크밀키트 #계란후라이반숙 #밀키트추천#프레시지밀키트#먹팔 #먹스타소통 #경양식스타일', ['#저녁밥상', '#저녁밥상메뉴', '#함박스테이크추천⠀쿠팡에서', '#밥상스타그램', '#밥집추천', '#집밥스타그램', '#집밥🍚', '#함박스텍', '#함박스테이크밀키트', '#계란후라이반숙', '#밀키트추천', '#프레시지밀키트', '#먹팔', '#먹스타소통', '#경양식스타일'], '2020-10-05', '1,187', ''], ['요즘 밀키트제품 잘나와서아들 좋아하는메뉴로 사놓으면좋은애미 코스프레용으로 최고😍스테이크세트 해주면 나 한조각주고혼자 토마토까지 전부 클리어ㅋㅋㅋ그런데 이게 왜 2인세트이쥐?😅😅....#원주일상#일상그램#일상스타그램 #고기#고기스타그램#스테이크#홈쿡#프레시지#프레시지밀키트#밀키트#프레시지블랙라벨스테이크#소고기#더반찬#아들간식#식사#food#foodstagram#plating#빌보#빌레로이앤보흐#빌보뉴웨이브 #먹방', ['#원주일상', '#일상그램', '#일상스타그램', '#고기', '#고기스타그램', '#스테이크', '#홈쿡', '#프레시지', '#프레시지밀키트', '#밀키트', '#프레시지블랙라벨스테이크', '#소고기', '#더반찬', '#아들간식', '#식사', '#food', '#foodstagram', '#plating', '#빌보', '#빌레로이앤보흐', '#빌보뉴웨이브', '#먹방'], '2020-12-18', '840', '']]\n"
     ]
    }
   ],
   "source": [
    "word = '프레시지밀키트'\n",
    "url = insta_searching(word)\n",
    "\n",
    "driver.get(url)\n",
    "time.sleep(3)\n",
    "\n",
    "# 첫 번째 게시글 열기\n",
    "select_first(driver)\n",
    "\n",
    "# 비어 있는 변수(result) 만들기\n",
    "result = []\n",
    "\n",
    "# 여러 게시물 수집하기\n",
    "target = 500\n",
    "\n",
    "for i in tqdm(range(target)):\n",
    "    try:\n",
    "        data = get_content(driver)\n",
    "        result.append(data)\n",
    "        move_next(driver)\n",
    "\n",
    "    except:\n",
    "        time.sleep(2)\n",
    "        move_next(driver)\n",
    "\n",
    "print(result[:2])"
   ]
  },
  {
   "cell_type": "code",
   "execution_count": 31,
   "metadata": {},
   "outputs": [
    {
     "data": {
      "text/plain": [
       "491"
      ]
     },
     "execution_count": 31,
     "metadata": {},
     "output_type": "execute_result"
    }
   ],
   "source": [
    "len(result)"
   ]
  },
  {
   "cell_type": "code",
   "execution_count": 32,
   "metadata": {},
   "outputs": [],
   "source": [
    "result_df = pd.DataFrame(result)\n",
    "result_df.columns = ['content', 'tags', 'date', 'like', 'place']\n",
    "result_df.to_excel('../output/fresheasymealkit_1.xlsx')\n",
    "\n",
    "driver.close()"
   ]
  },
  {
   "cell_type": "markdown",
   "metadata": {},
   "source": [
    "#### word \"프레시지 밀키트\" 추가 크롤링"
   ]
  },
  {
   "cell_type": "code",
   "execution_count": 38,
   "metadata": {},
   "outputs": [
    {
     "data": {
      "application/vnd.jupyter.widget-view+json": {
       "model_id": "757b732c6acd4dbf8760f9bbf6cfb4a1",
       "version_major": 2,
       "version_minor": 0
      },
      "text/plain": [
       "HBox(children=(HTML(value=''), FloatProgress(value=0.0, max=145.0), HTML(value='')))"
      ]
     },
     "metadata": {},
     "output_type": "display_data"
    },
    {
     "name": "stdout",
     "output_type": "stream",
     "text": [
      "\n",
      "[['#오늘의점심 #홈런치 #트러플크림파스타 #홈브런치 #프레시지 #프레시지밀키트 #파스타 #홈메이드 #플레이팅', ['#오늘의점심', '#홈런치', '#트러플크림파스타', '#홈브런치', '#프레시지', '#프레시지밀키트', '#파스타', '#홈메이드', '#플레이팅'], '2019-12-10', '20', ''], ['#그저께일기.슬슬이가 해준 밀푀유나베넘 맛있어서 비법을 전수 받았다.나도 사.. 해먹어봐야지 #프레시지밀키트어디에서 어떻게 구입해야 GOOD!! Ok.. ...노는 내내 내이름 제대로 안부르고다른이모 찾길래 내 이름 못외우나싶었더니 가려고 인사하니 신나게 \"윤미이모 잘가>ㅅ<\" 열번도 더 외치는#밀당남박리우 쪼꼬미 이제 이모가 질리게 놀러갈꺼야..💁\\u200d♀️#갓조이모', ['#그저께일기.슬슬이가', '#프레시지밀키트어디에서', '#밀당남박리우', '#갓조이모'], '2019-12-05', '21', '']]\n"
     ]
    }
   ],
   "source": [
    "word = '프레시지밀키트'\n",
    "url = insta_searching(word)\n",
    "\n",
    "driver.get(url)\n",
    "time.sleep(3)\n",
    "\n",
    "# 비어 있는 변수(result) 만들기\n",
    "result = []\n",
    "\n",
    "# 여러 게시물 수집하기\n",
    "target = 145\n",
    "\n",
    "for i in tqdm(range(target)):\n",
    "    try:\n",
    "        data = get_content(driver)\n",
    "        result.append(data)\n",
    "        move_next(driver)\n",
    "\n",
    "    except:\n",
    "        time.sleep(2)\n",
    "        move_next(driver)\n",
    "\n",
    "print(result[:2])"
   ]
  },
  {
   "cell_type": "code",
   "execution_count": 41,
   "metadata": {},
   "outputs": [],
   "source": [
    "result_df = pd.DataFrame(result)\n",
    "result_df.columns = ['content', 'tags', 'date', 'like', 'place']\n",
    "result_df.to_excel('../output/fresheasymealkit_2.xlsx', index=False)\n",
    "\n",
    "driver.close()"
   ]
  },
  {
   "cell_type": "code",
   "execution_count": 61,
   "metadata": {},
   "outputs": [],
   "source": [
    "fresheasymealkit1 = pd.read_excel('../output/fresheasymealkit_1.xlsx', engine='openpyxl')\n",
    "fresheasymealkit2 = pd.read_excel('../output/fresheasymealkit_2.xlsx', engine='openpyxl')\n",
    "fresheasymealkit = pd.concat([fresheasymealkit1, fresheasymealkit2])\n",
    "fresheasymealkit.reset_index(inplace = True, drop=True)"
   ]
  },
  {
   "cell_type": "code",
   "execution_count": 62,
   "metadata": {
    "scrolled": false
   },
   "outputs": [
    {
     "data": {
      "text/plain": [
       "636"
      ]
     },
     "execution_count": 62,
     "metadata": {},
     "output_type": "execute_result"
    }
   ],
   "source": [
    "len(fresheasymealkit)"
   ]
  },
  {
   "cell_type": "code",
   "execution_count": 68,
   "metadata": {},
   "outputs": [
    {
     "data": {
      "text/html": [
       "<div>\n",
       "<style scoped>\n",
       "    .dataframe tbody tr th:only-of-type {\n",
       "        vertical-align: middle;\n",
       "    }\n",
       "\n",
       "    .dataframe tbody tr th {\n",
       "        vertical-align: top;\n",
       "    }\n",
       "\n",
       "    .dataframe thead th {\n",
       "        text-align: right;\n",
       "    }\n",
       "</style>\n",
       "<table border=\"1\" class=\"dataframe\">\n",
       "  <thead>\n",
       "    <tr style=\"text-align: right;\">\n",
       "      <th></th>\n",
       "      <th>content</th>\n",
       "      <th>tags</th>\n",
       "      <th>date</th>\n",
       "      <th>like</th>\n",
       "      <th>place</th>\n",
       "    </tr>\n",
       "  </thead>\n",
       "  <tbody>\n",
       "    <tr>\n",
       "      <th>0</th>\n",
       "      <td>#저녁밥상 #저녁밥상메뉴 #함박스테이크추천⠀쿠팡에서 판매하는 함박이너무 리뷰가 좋아...</td>\n",
       "      <td>['#저녁밥상', '#저녁밥상메뉴', '#함박스테이크추천⠀쿠팡에서', '#밥상스타그...</td>\n",
       "      <td>2020-10-05</td>\n",
       "      <td>1,187</td>\n",
       "      <td>NaN</td>\n",
       "    </tr>\n",
       "    <tr>\n",
       "      <th>1</th>\n",
       "      <td>요즘 밀키트제품 잘나와서아들 좋아하는메뉴로 사놓으면좋은애미 코스프레용으로 최고😍스테...</td>\n",
       "      <td>['#원주일상', '#일상그램', '#일상스타그램', '#고기', '#고기스타그램'...</td>\n",
       "      <td>2020-12-18</td>\n",
       "      <td>840</td>\n",
       "      <td>NaN</td>\n",
       "    </tr>\n",
       "    <tr>\n",
       "      <th>2</th>\n",
       "      <td>매운거,자극적인거 너무 좋아해서남편의 잔소리를 피할수없지만 포기할수 없쥐~~~😤.....</td>\n",
       "      <td>['#프레시지', '#프레시지밀키트', '#밀키트', '#신혼밥상', '#신혼', ...</td>\n",
       "      <td>2019-10-23</td>\n",
       "      <td>455</td>\n",
       "      <td>NaN</td>\n",
       "    </tr>\n",
       "    <tr>\n",
       "      <th>3</th>\n",
       "      <td>예전에 놀러갔을때 해먹어본 프레시지 감바스 밀키트😋 오일도 넉넉하니 진짜 맛있었당❤...</td>\n",
       "      <td>['#프레시지', '#프레시지밀키트', '#프레시지감바스', '#감바스밀키트', '...</td>\n",
       "      <td>2020-08-31</td>\n",
       "      <td>119</td>\n",
       "      <td>NaN</td>\n",
       "    </tr>\n",
       "    <tr>\n",
       "      <th>4</th>\n",
       "      <td>고기사랑 ♡편리한 스테이크 밀키트 먹방 😊#스테이크 #스테이크밀키트 #집밥 #고기 ...</td>\n",
       "      <td>['#스테이크', '#스테이크밀키트', '#집밥', '#고기', '#고기사랑', '...</td>\n",
       "      <td>2020-12-01</td>\n",
       "      <td>406</td>\n",
       "      <td>NaN</td>\n",
       "    </tr>\n",
       "    <tr>\n",
       "      <th>...</th>\n",
       "      <td>...</td>\n",
       "      <td>...</td>\n",
       "      <td>...</td>\n",
       "      <td>...</td>\n",
       "      <td>...</td>\n",
       "    </tr>\n",
       "    <tr>\n",
       "      <th>631</th>\n",
       "      <td>🍳스테이크전문점 아니고홈쿡데스!옴마쉐프 요리부심 뿜뿜해도 되겠져?.🕞15분만에 이거...</td>\n",
       "      <td>['#프레시지밀키트', '#프레시지', '#쁘띠텐더스테이크', '#그랜드비프스테이크...</td>\n",
       "      <td>2018-08-23</td>\n",
       "      <td>1,056</td>\n",
       "      <td>NaN</td>\n",
       "    </tr>\n",
       "    <tr>\n",
       "      <th>632</th>\n",
       "      <td>늦은 #점심.간단하지만 푸짐하게 먹고 싶어#자이언트미트볼파스타 꺼내욤.빠르게 배송반...</td>\n",
       "      <td>['#점심.간단하지만', '#자이언트미트볼파스타', '#밀키트', '#쿠킹박스', ...</td>\n",
       "      <td>2018-08-10</td>\n",
       "      <td>2,825</td>\n",
       "      <td>NaN</td>\n",
       "    </tr>\n",
       "    <tr>\n",
       "      <th>633</th>\n",
       "      <td>-#점심 #자이언트미트볼파스타 #석류즙.간단하면서 맛있게 점심 먹기!!재료에 소스에...</td>\n",
       "      <td>['#점심', '#자이언트미트볼파스타', '#석류즙.간단하면서', '#자이언트미트볼...</td>\n",
       "      <td>2018-08-09</td>\n",
       "      <td>99</td>\n",
       "      <td>NaN</td>\n",
       "    </tr>\n",
       "    <tr>\n",
       "      <th>634</th>\n",
       "      <td>🎀@powderroom.eventㆍ덥고 푹푹 찌는날 외식만 하다가 집에서도 맛있는 ...</td>\n",
       "      <td>['#자이언트미트볼파스타', '#프레시지밀키트요리를', '#프레시지', '#밀키트'...</td>\n",
       "      <td>2018-08-06</td>\n",
       "      <td>94</td>\n",
       "      <td>NaN</td>\n",
       "    </tr>\n",
       "    <tr>\n",
       "      <th>635</th>\n",
       "      <td>#chef #mealkit #tonyjung #steak #pasta #salad ...</td>\n",
       "      <td>['#chef', '#mealkit', '#tonyjung', '#steak', '...</td>\n",
       "      <td>2018-07-25</td>\n",
       "      <td>90</td>\n",
       "      <td>우리집내방</td>\n",
       "    </tr>\n",
       "  </tbody>\n",
       "</table>\n",
       "<p>636 rows × 5 columns</p>\n",
       "</div>"
      ],
      "text/plain": [
       "                                               content  \\\n",
       "0    #저녁밥상 #저녁밥상메뉴 #함박스테이크추천⠀쿠팡에서 판매하는 함박이너무 리뷰가 좋아...   \n",
       "1    요즘 밀키트제품 잘나와서아들 좋아하는메뉴로 사놓으면좋은애미 코스프레용으로 최고😍스테...   \n",
       "2    매운거,자극적인거 너무 좋아해서남편의 잔소리를 피할수없지만 포기할수 없쥐~~~😤.....   \n",
       "3    예전에 놀러갔을때 해먹어본 프레시지 감바스 밀키트😋 오일도 넉넉하니 진짜 맛있었당❤...   \n",
       "4    고기사랑 ♡편리한 스테이크 밀키트 먹방 😊#스테이크 #스테이크밀키트 #집밥 #고기 ...   \n",
       "..                                                 ...   \n",
       "631  🍳스테이크전문점 아니고홈쿡데스!옴마쉐프 요리부심 뿜뿜해도 되겠져?.🕞15분만에 이거...   \n",
       "632  늦은 #점심.간단하지만 푸짐하게 먹고 싶어#자이언트미트볼파스타 꺼내욤.빠르게 배송반...   \n",
       "633  -#점심 #자이언트미트볼파스타 #석류즙.간단하면서 맛있게 점심 먹기!!재료에 소스에...   \n",
       "634  🎀@powderroom.eventㆍ덥고 푹푹 찌는날 외식만 하다가 집에서도 맛있는 ...   \n",
       "635  #chef #mealkit #tonyjung #steak #pasta #salad ...   \n",
       "\n",
       "                                                  tags        date   like  \\\n",
       "0    ['#저녁밥상', '#저녁밥상메뉴', '#함박스테이크추천⠀쿠팡에서', '#밥상스타그...  2020-10-05  1,187   \n",
       "1    ['#원주일상', '#일상그램', '#일상스타그램', '#고기', '#고기스타그램'...  2020-12-18    840   \n",
       "2    ['#프레시지', '#프레시지밀키트', '#밀키트', '#신혼밥상', '#신혼', ...  2019-10-23    455   \n",
       "3    ['#프레시지', '#프레시지밀키트', '#프레시지감바스', '#감바스밀키트', '...  2020-08-31    119   \n",
       "4    ['#스테이크', '#스테이크밀키트', '#집밥', '#고기', '#고기사랑', '...  2020-12-01    406   \n",
       "..                                                 ...         ...    ...   \n",
       "631  ['#프레시지밀키트', '#프레시지', '#쁘띠텐더스테이크', '#그랜드비프스테이크...  2018-08-23  1,056   \n",
       "632  ['#점심.간단하지만', '#자이언트미트볼파스타', '#밀키트', '#쿠킹박스', ...  2018-08-10  2,825   \n",
       "633  ['#점심', '#자이언트미트볼파스타', '#석류즙.간단하면서', '#자이언트미트볼...  2018-08-09     99   \n",
       "634  ['#자이언트미트볼파스타', '#프레시지밀키트요리를', '#프레시지', '#밀키트'...  2018-08-06     94   \n",
       "635  ['#chef', '#mealkit', '#tonyjung', '#steak', '...  2018-07-25     90   \n",
       "\n",
       "     place  \n",
       "0      NaN  \n",
       "1      NaN  \n",
       "2      NaN  \n",
       "3      NaN  \n",
       "4      NaN  \n",
       "..     ...  \n",
       "631    NaN  \n",
       "632    NaN  \n",
       "633    NaN  \n",
       "634    NaN  \n",
       "635  우리집내방  \n",
       "\n",
       "[636 rows x 5 columns]"
      ]
     },
     "execution_count": 68,
     "metadata": {},
     "output_type": "execute_result"
    }
   ],
   "source": [
    "fresheasymealkit"
   ]
  },
  {
   "cell_type": "code",
   "execution_count": 69,
   "metadata": {},
   "outputs": [],
   "source": [
    "fresheasymealkit.to_excel('../output/fresheasymealkit.xlsx')"
   ]
  },
  {
   "cell_type": "markdown",
   "metadata": {},
   "source": [
    "### 2.1.4 word \"프레시지쿠킹박스\""
   ]
  },
  {
   "cell_type": "code",
   "execution_count": 70,
   "metadata": {},
   "outputs": [],
   "source": [
    "from selenium import webdriver\n",
    "driver = webdriver.Chrome('../driver/chromedriver.exe')\n",
    "\n",
    "import time\n",
    "driver.get('https://www.instagram.com')\n",
    "time.sleep(2)\n",
    "\n",
    "email = '********'\n",
    "input_id = driver.find_elements_by_css_selector('input._2hvTZ.pexuQ.zyHYP')[0]\n",
    "input_id.clear()\n",
    "input_id.send_keys(email)\n",
    "\n",
    "password = '********'\n",
    "input_pw = driver.find_elements_by_css_selector('input._2hvTZ.pexuQ.zyHYP')[1]\n",
    "input_pw.clear()\n",
    "input_pw.send_keys(password)\n",
    "\n",
    "input_pw.submit()\n",
    "time.sleep(3)"
   ]
  },
  {
   "cell_type": "code",
   "execution_count": 73,
   "metadata": {},
   "outputs": [
    {
     "data": {
      "application/vnd.jupyter.widget-view+json": {
       "model_id": "7bfd8ecff85d4679a7950937f99a9cbe",
       "version_major": 2,
       "version_minor": 0
      },
      "text/plain": [
       "HBox(children=(HTML(value=''), FloatProgress(value=0.0, max=500.0), HTML(value='')))"
      ]
     },
     "metadata": {},
     "output_type": "display_data"
    },
    {
     "name": "stdout",
     "output_type": "stream",
     "text": [
      "\n",
      "[['집밥피드올리기 냠냠🍴#메리프레시지 #크리스마스파티 도 문제없겠어요😘😘', ['#메리프레시지', '#크리스마스파티'], '2019-11-30', '150', ''], ['#독산동우리집 오늘은 엄마표갈비랑 #프레시지수제비떡볶이 꿀조합🍯♥️밀키트는 세상 간편한 프레시지가 왕짱인듯👍🏻.#집밥스타그램 #집밥 #집밥메뉴 #집밥그램 #집밥메뉴 #프레시지 #밀키트 #프레시지쿠킹박스 #프레시지밀키트 #프레시지떡볶이 #떡볶이 #떡볶이맛집 #독산동맛집 #금천구맛집 #맛스타그램 #먹스타그램 #먹스타맞팔 #먹스타소통 #일상 #데일리 #먹팔 #맞팔 #소통 #다이어트 #다이어트식단 #집밥은살안쪄', ['#독산동우리집', '#프레시지수제비떡볶이', '#집밥스타그램', '#집밥', '#집밥메뉴', '#집밥그램', '#집밥메뉴', '#프레시지', '#밀키트', '#프레시지쿠킹박스', '#프레시지밀키트', '#프레시지떡볶이', '#떡볶이', '#떡볶이맛집', '#독산동맛집', '#금천구맛집', '#맛스타그램', '#먹스타그램', '#먹스타맞팔', '#먹스타소통', '#일상', '#데일리', '#먹팔', '#맞팔', '#소통', '#다이어트', '#다이어트식단', '#집밥은살안쪄'], '2020-07-06', '284', '금천 롯데캐슬 골드파크']]\n"
     ]
    }
   ],
   "source": [
    "word = '프레시지쿠킹박스'\n",
    "url = insta_searching(word)\n",
    "\n",
    "driver.get(url)\n",
    "time.sleep(3)\n",
    "\n",
    "# 첫 번째 게시글 열기\n",
    "select_first(driver)\n",
    "\n",
    "# 비어 있는 변수(result) 만들기\n",
    "result = []\n",
    "\n",
    "# 여러 게시물 수집하기\n",
    "target = 500\n",
    "\n",
    "for i in tqdm(range(target)):\n",
    "    try:\n",
    "        data = get_content(driver)\n",
    "        result.append(data)\n",
    "        move_next(driver)\n",
    "\n",
    "    except:\n",
    "        time.sleep(2)\n",
    "        move_next(driver)\n",
    "\n",
    "print(result[:2])"
   ]
  },
  {
   "cell_type": "code",
   "execution_count": 75,
   "metadata": {},
   "outputs": [],
   "source": [
    "result_df = pd.DataFrame(result)\n",
    "result_df.columns = ['content', 'tags', 'date', 'like', 'place']\n",
    "result_df.to_excel('../output/fresheasycookingbox_1.xlsx')\n",
    "\n",
    "driver.close()"
   ]
  },
  {
   "cell_type": "code",
   "execution_count": 76,
   "metadata": {},
   "outputs": [
    {
     "data": {
      "application/vnd.jupyter.widget-view+json": {
       "model_id": "01df52ffe1d54a5d96e97a3029be4ad4",
       "version_major": 2,
       "version_minor": 0
      },
      "text/plain": [
       "HBox(children=(HTML(value=''), FloatProgress(value=0.0, max=500.0), HTML(value='')))"
      ]
     },
     "metadata": {},
     "output_type": "display_data"
    },
    {
     "name": "stdout",
     "output_type": "stream",
     "text": [
      "\n",
      "[['집밥피드올리기 냠냠🍴#메리프레시지 #크리스마스파티 도 문제없겠어요😘😘', ['#메리프레시지', '#크리스마스파티'], '2019-11-30', '150', ''], ['#독산동우리집 오늘은 엄마표갈비랑 #프레시지수제비떡볶이 꿀조합🍯♥️밀키트는 세상 간편한 프레시지가 왕짱인듯👍🏻.#집밥스타그램 #집밥 #집밥메뉴 #집밥그램 #집밥메뉴 #프레시지 #밀키트 #프레시지쿠킹박스 #프레시지밀키트 #프레시지떡볶이 #떡볶이 #떡볶이맛집 #독산동맛집 #금천구맛집 #맛스타그램 #먹스타그램 #먹스타맞팔 #먹스타소통 #일상 #데일리 #먹팔 #맞팔 #소통 #다이어트 #다이어트식단 #집밥은살안쪄', ['#독산동우리집', '#프레시지수제비떡볶이', '#집밥스타그램', '#집밥', '#집밥메뉴', '#집밥그램', '#집밥메뉴', '#프레시지', '#밀키트', '#프레시지쿠킹박스', '#프레시지밀키트', '#프레시지떡볶이', '#떡볶이', '#떡볶이맛집', '#독산동맛집', '#금천구맛집', '#맛스타그램', '#먹스타그램', '#먹스타맞팔', '#먹스타소통', '#일상', '#데일리', '#먹팔', '#맞팔', '#소통', '#다이어트', '#다이어트식단', '#집밥은살안쪄'], '2020-07-06', '284', '금천 롯데캐슬 골드파크']]\n"
     ]
    }
   ],
   "source": [
    "word = '프레시지쿠킹박스'\n",
    "url = insta_searching(word)\n",
    "\n",
    "driver.get(url)\n",
    "time.sleep(3)\n",
    "\n",
    "# 첫 번째 게시글 열기\n",
    "select_first(driver)\n",
    "\n",
    "# 비어 있는 변수(result) 만들기\n",
    "result = []\n",
    "\n",
    "# 여러 게시물 수집하기\n",
    "target = 500\n",
    "\n",
    "for i in tqdm(range(target)):\n",
    "    try:\n",
    "        data = get_content(driver)\n",
    "        result.append(data)\n",
    "        move_next(driver)\n",
    "\n",
    "    except:\n",
    "        time.sleep(2)\n",
    "        move_next(driver)\n",
    "\n",
    "print(result[:2])\n",
    "driver.close()"
   ]
  },
  {
   "cell_type": "code",
   "execution_count": 77,
   "metadata": {
    "scrolled": true
   },
   "outputs": [
    {
     "data": {
      "text/plain": [
       "981"
      ]
     },
     "execution_count": 77,
     "metadata": {},
     "output_type": "execute_result"
    }
   ],
   "source": [
    "len(result)"
   ]
  },
  {
   "cell_type": "code",
   "execution_count": 78,
   "metadata": {},
   "outputs": [],
   "source": [
    "result_df = pd.DataFrame(result)\n",
    "result_df.columns = ['content', 'tags', 'date', 'like', 'place']\n",
    "result_df.to_excel('../output/fresheasycookingbox.xlsx')"
   ]
  },
  {
   "cell_type": "markdown",
   "metadata": {},
   "source": [
    "## 2.2 Naver Blog Crawling"
   ]
  },
  {
   "cell_type": "markdown",
   "metadata": {},
   "source": [
    "### 2.2.1 word \"프레시지\""
   ]
  },
  {
   "cell_type": "code",
   "execution_count": null,
   "metadata": {},
   "outputs": [],
   "source": [
    "query_txt = '프레시지'\n",
    "driver = webdriver.Chrome('../driver/chromedriver.exe')\n",
    "driver.get('http://www.naver.com')\n",
    "time.sleep(2)"
   ]
  },
  {
   "cell_type": "code",
   "execution_count": null,
   "metadata": {},
   "outputs": [],
   "source": [
    "element = driver.find_element_by_id('query')\n",
    "element.send_keys(query_txt)\n",
    "element.submit()\n",
    "\n",
    "driver.find_element_by_link_text('블로그').click()"
   ]
  },
  {
   "cell_type": "code",
   "execution_count": null,
   "metadata": {},
   "outputs": [],
   "source": [
    "# 검색 옵션\n",
    "driver.find_element_by_css_selector('#search_option_button').click()\n",
    "\n",
    "#정렬 버튼 xpath\n",
    "driver.find_element_by_xpath(\"\"\"//*[@id=\"snb\"]/div/ul/li[1]/a\"\"\").click()\n",
    "\n",
    "# 관련도순 xpath\n",
    "driver.find_element_by_xpath(\"\"\"//*[@id=\"snb\"]/div/ul/li[1]/div/ul/li[1]/a\"\"\").click()"
   ]
  },
  {
   "cell_type": "code",
   "execution_count": null,
   "metadata": {},
   "outputs": [],
   "source": [
    "html = driver.page_source\n",
    "soup = BeautifulSoup(html, 'lxml')\n",
    "\n",
    "result = []\n",
    "for i in tqdm(range(1000)):\n",
    "\n",
    "    #제목\n",
    "    title = soup.select('a.api_txt_lines.total_tit')[i].text\n",
    "    title = unicodedata.normalize('NFC', title)\n",
    "    \n",
    "    #본문\n",
    "    content = soup.select('div.total_group')[i].text\n",
    "    content = unicodedata.normalize('NFC', content)\n",
    "    \n",
    "    #날짜\n",
    "    date = soup.select('span.sub_time.sub_txt')[i].text\n",
    "    \n",
    "    data = [title, content, date]\n",
    "    result.append(data)\n",
    "\n",
    "print(len(result))\n",
    "driver.close()"
   ]
  },
  {
   "cell_type": "code",
   "execution_count": 195,
   "metadata": {},
   "outputs": [
    {
     "data": {
      "text/html": [
       "<div>\n",
       "<style scoped>\n",
       "    .dataframe tbody tr th:only-of-type {\n",
       "        vertical-align: middle;\n",
       "    }\n",
       "\n",
       "    .dataframe tbody tr th {\n",
       "        vertical-align: top;\n",
       "    }\n",
       "\n",
       "    .dataframe thead th {\n",
       "        text-align: right;\n",
       "    }\n",
       "</style>\n",
       "<table border=\"1\" class=\"dataframe\">\n",
       "  <thead>\n",
       "    <tr style=\"text-align: right;\">\n",
       "      <th></th>\n",
       "      <th>title</th>\n",
       "      <th>content</th>\n",
       "      <th>date</th>\n",
       "    </tr>\n",
       "  </thead>\n",
       "  <tbody>\n",
       "    <tr>\n",
       "      <th>990</th>\n",
       "      <td>프레시지 감바스 알아히요 간단하고 맛있음!</td>\n",
       "      <td>지난 번 곱창전골이 땡겨서 프레시지를 처음 이용했을 때 곱창전골과 함께 구매한...</td>\n",
       "      <td>2020.09.17.</td>\n",
       "    </tr>\n",
       "    <tr>\n",
       "      <th>991</th>\n",
       "      <td>밀키트로 감바스만들기- 프레시지</td>\n",
       "      <td>#밀키트 #프레시지 #감바스만들기 #내배부르게먹기 #내돈내산 항상 아이들 맛있...</td>\n",
       "      <td>2020.10.18.</td>\n",
       "    </tr>\n",
       "    <tr>\n",
       "      <th>992</th>\n",
       "      <td>[간편조리추천] 프레시지 블랙라벨 스테이크 완전 추천!!...</td>\n",
       "      <td>바로바로바로바로바로바로 [프레시지 블랙라벨 스테이크] &lt;협찬 절대절대 아님!!...</td>\n",
       "      <td>2020.07.06.</td>\n",
       "    </tr>\n",
       "    <tr>\n",
       "      <th>993</th>\n",
       "      <td>[자취요리_마라탕] 프레시지 사천마라탕/마라탕 만들기/B마트...</td>\n",
       "      <td>#마라탕만들기 #사천마라탕 #B마트마라탕 #프레시지마라탕 손쉽게 만드는 마라탕...</td>\n",
       "      <td>2020.09.03.</td>\n",
       "    </tr>\n",
       "    <tr>\n",
       "      <th>994</th>\n",
       "      <td>구매후기 : 프레시지 우삼겹 순두부찌개</td>\n",
       "      <td>프레시지 우삼겹 순두부찌개 몇달전에 드디어 집에서 독립해서 혼자하는 J’s 사...</td>\n",
       "      <td>2020.09.12.</td>\n",
       "    </tr>\n",
       "  </tbody>\n",
       "</table>\n",
       "</div>"
      ],
      "text/plain": [
       "                                     title  \\\n",
       "990                프레시지 감바스 알아히요 간단하고 맛있음!   \n",
       "991                      밀키트로 감바스만들기- 프레시지   \n",
       "992    [간편조리추천] 프레시지 블랙라벨 스테이크 완전 추천!!...    \n",
       "993  [자취요리_마라탕] 프레시지 사천마라탕/마라탕 만들기/B마트...    \n",
       "994                  구매후기 : 프레시지 우삼겹 순두부찌개   \n",
       "\n",
       "                                               content         date  \n",
       "990     지난 번 곱창전골이 땡겨서 프레시지를 처음 이용했을 때 곱창전골과 함께 구매한...  2020.09.17.  \n",
       "991     #밀키트 #프레시지 #감바스만들기 #내배부르게먹기 #내돈내산 항상 아이들 맛있...  2020.10.18.  \n",
       "992     바로바로바로바로바로바로 [프레시지 블랙라벨 스테이크] <협찬 절대절대 아님!!...  2020.07.06.  \n",
       "993     #마라탕만들기 #사천마라탕 #B마트마라탕 #프레시지마라탕 손쉽게 만드는 마라탕...  2020.09.03.  \n",
       "994     프레시지 우삼겹 순두부찌개 몇달전에 드디어 집에서 독립해서 혼자하는 J’s 사...  2020.09.12.  "
      ]
     },
     "execution_count": 195,
     "metadata": {},
     "output_type": "execute_result"
    }
   ],
   "source": [
    "results_df = pd.DataFrame(result)\n",
    "results_df.columns = ['title','content','date']\n",
    "results_df.drop_duplicates(subset=['content'], inplace=True)\n",
    "results_df.reset_index(inplace = True, drop = True)\n",
    "\n",
    "results_df.to_excel('../output/fresheasy_blog.xlsx')\n",
    "results_df.tail()"
   ]
  },
  {
   "cell_type": "markdown",
   "metadata": {},
   "source": [
    "### 2.2.2 word \"프레시지밀키트\""
   ]
  },
  {
   "cell_type": "code",
   "execution_count": null,
   "metadata": {},
   "outputs": [],
   "source": [
    "query_txt = '프레시지밀키트'\n",
    "driver = webdriver.Chrome('../driver/chromedriver.exe')\n",
    "driver.get('http://www.naver.com')\n",
    "time.sleep(2)\n",
    "\n",
    "element = driver.find_element_by_id('query')\n",
    "element.send_keys(query_txt)\n",
    "element.submit()\n",
    "\n",
    "driver.find_element_by_link_text('블로그').click()"
   ]
  },
  {
   "cell_type": "code",
   "execution_count": null,
   "metadata": {},
   "outputs": [],
   "source": [
    "# 검색 옵션\n",
    "driver.find_element_by_css_selector('#search_option_button').click()\n",
    "\n",
    "#정렬 버튼 xpath\n",
    "driver.find_element_by_xpath(\"\"\"//*[@id=\"snb\"]/div/ul/li[1]/a\"\"\").click()\n",
    "\n",
    "# 관련도순 xpath\n",
    "driver.find_element_by_xpath(\"\"\"//*[@id=\"snb\"]/div/ul/li[1]/div/ul/li[1]/a\"\"\").click()"
   ]
  },
  {
   "cell_type": "code",
   "execution_count": null,
   "metadata": {},
   "outputs": [],
   "source": [
    "html = driver.page_source\n",
    "soup = BeautifulSoup(html, 'lxml')\n",
    "\n",
    "result = []\n",
    "for i in tqdm(range(1000)):\n",
    "\n",
    "    #제목\n",
    "    title = soup.select('a.api_txt_lines.total_tit')[i].text\n",
    "    title = unicodedata.normalize('NFC', title)\n",
    "    \n",
    "    #본문\n",
    "    content = soup.select('div.total_group')[i].text\n",
    "    content = unicodedata.normalize('NFC', content)\n",
    "    \n",
    "    #날짜\n",
    "    date = soup.select('span.sub_time.sub_txt')[i].text\n",
    "    \n",
    "    data = [title, content, date]\n",
    "    result.append(data)\n",
    "    \n",
    "driver.close()"
   ]
  },
  {
   "cell_type": "code",
   "execution_count": null,
   "metadata": {},
   "outputs": [],
   "source": [
    "results_df = pd.DataFrame(result)\n",
    "results_df.columns = ['title','content','date']\n",
    "results_df.drop_duplicates(subset=['content'], inplace=True)\n",
    "results_df.reset_index(inplace = True, drop = True)\n",
    "\n",
    "print(len(results_df))\n",
    "results_df.tail()"
   ]
  },
  {
   "cell_type": "code",
   "execution_count": null,
   "metadata": {},
   "outputs": [],
   "source": [
    "results_df.to_excel('../output/fresheasymealkit_blog.xlsx')"
   ]
  },
  {
   "cell_type": "markdown",
   "metadata": {},
   "source": [
    "### 2.2.3 word \"프레시지쿠킹박스\""
   ]
  },
  {
   "cell_type": "code",
   "execution_count": null,
   "metadata": {},
   "outputs": [],
   "source": [
    "query_txt = '프레시지쿠킹박스'\n",
    "driver = webdriver.Chrome('../driver/chromedriver.exe')\n",
    "driver.get('http://www.naver.com')\n",
    "time.sleep(2)\n",
    "\n",
    "element = driver.find_element_by_id('query')\n",
    "element.send_keys(query_txt)\n",
    "element.submit()\n",
    "\n",
    "driver.find_element_by_link_text('블로그').click()"
   ]
  },
  {
   "cell_type": "code",
   "execution_count": null,
   "metadata": {},
   "outputs": [],
   "source": [
    "# 검색 옵션\n",
    "driver.find_element_by_css_selector('#search_option_button').click()\n",
    "\n",
    "#정렬 버튼 xpath\n",
    "driver.find_element_by_xpath(\"\"\"//*[@id=\"snb\"]/div/ul/li[1]/a\"\"\").click()\n",
    "\n",
    "# 관련도순 xpath\n",
    "driver.find_element_by_xpath(\"\"\"//*[@id=\"snb\"]/div/ul/li[1]/div/ul/li[1]/a\"\"\").click()"
   ]
  },
  {
   "cell_type": "code",
   "execution_count": null,
   "metadata": {},
   "outputs": [],
   "source": [
    "html = driver.page_source\n",
    "soup = BeautifulSoup(html, 'lxml')\n",
    "\n",
    "result = []\n",
    "for i in tqdm(range(1000)):\n",
    "\n",
    "    #제목\n",
    "    title = soup.select('a.api_txt_lines.total_tit')[i].text\n",
    "    title = unicodedata.normalize('NFC', title)\n",
    "    \n",
    "    #본문\n",
    "    content = soup.select('div.total_group')[i].text\n",
    "    content = unicodedata.normalize('NFC', content)\n",
    "    \n",
    "    #날짜\n",
    "    date = soup.select('span.sub_time.sub_txt')[i].text\n",
    "    \n",
    "    data = [title, content, date]\n",
    "    result.append(data)"
   ]
  },
  {
   "cell_type": "code",
   "execution_count": null,
   "metadata": {},
   "outputs": [],
   "source": [
    "results_df = pd.DataFrame(result)\n",
    "results_df.columns = ['title','content','date']\n",
    "results_df.drop_duplicates(subset=['content'], inplace=True)\n",
    "results_df.reset_index(inplace = True, drop = True)\n",
    "\n",
    "print(results_df.tail())\n",
    "len(results_df)\n",
    "results_df.to_excel('../output/fresheasycookingbox_blog.xlsx')"
   ]
  },
  {
   "cell_type": "markdown",
   "metadata": {},
   "source": [
    "## 2.3 Naver Cafe Crawling"
   ]
  },
  {
   "cell_type": "markdown",
   "metadata": {},
   "source": [
    "### 2.3.1 word \"프레시지\""
   ]
  },
  {
   "cell_type": "code",
   "execution_count": null,
   "metadata": {},
   "outputs": [],
   "source": [
    "query_txt = '프레시지'\n",
    "\n",
    "driver = webdriver.Chrome('../driver/chromedriver.exe')\n",
    "driver.get('http://www.naver.com')\n",
    "time.sleep(2)\n",
    "\n",
    "element = driver.find_element_by_id('query')\n",
    "element.send_keys(query_txt)\n",
    "element.submit()\n",
    "\n",
    "driver.find_element_by_link_text('카페').click()"
   ]
  },
  {
   "cell_type": "code",
   "execution_count": null,
   "metadata": {},
   "outputs": [],
   "source": [
    "# 검색 옵션\n",
    "driver.find_element_by_css_selector('#search_option_button').click()\n",
    "\n",
    "#정렬 버튼 xpath\n",
    "driver.find_element_by_xpath(\"\"\"//*[@id=\"snb\"]/div/ul/li[1]/a\"\"\").click()\n",
    "\n",
    "# 관련도순 xpath\n",
    "driver.find_element_by_xpath(\"\"\"//*[@id=\"snb\"]/div/ul/li[1]/div/ul/li[1]/a\"\"\").click()"
   ]
  },
  {
   "cell_type": "code",
   "execution_count": null,
   "metadata": {},
   "outputs": [],
   "source": [
    "html = driver.page_source\n",
    "soup = BeautifulSoup(html, 'lxml')\n",
    "\n",
    "result = []\n",
    "for i in tqdm(range(1000)):\n",
    "\n",
    "    #제목\n",
    "    title = soup.select('a.api_txt_lines.total_tit')[i].text\n",
    "    title = unicodedata.normalize('NFC', title)\n",
    "    \n",
    "    #본문\n",
    "    content = soup.select('div.total_group')[i].text\n",
    "    content = unicodedata.normalize('NFC', content)\n",
    "    \n",
    "    #날짜\n",
    "    date = soup.select('span.sub_time.sub_txt')[i].text\n",
    "    \n",
    "    data = [title, content, date]\n",
    "    result.append(data)"
   ]
  },
  {
   "cell_type": "code",
   "execution_count": null,
   "metadata": {},
   "outputs": [],
   "source": [
    "results_df = pd.DataFrame(result)\n",
    "results_df.columns = ['title','content','date']\n",
    "results_df.drop_duplicates(subset=['content'], inplace=True)\n",
    "results_df.reset_index(inplace = True, drop = True)\n",
    "print(results_df.tail())\n",
    "results_df.to_excel('../output/fresheasy/fresheasy_cafe.xlsx')\n",
    "driver.close()"
   ]
  },
  {
   "cell_type": "markdown",
   "metadata": {},
   "source": [
    "### 2.3.2 word \"프레시지밀키트\""
   ]
  },
  {
   "cell_type": "code",
   "execution_count": null,
   "metadata": {},
   "outputs": [],
   "source": [
    "query_txt = '프레시지밀키트'\n",
    "\n",
    "driver = webdriver.Chrome('../driver/chromedriver.exe')\n",
    "driver.get('http://www.naver.com')\n",
    "time.sleep(2)\n",
    "\n",
    "element = driver.find_element_by_id('query')\n",
    "element.send_keys(query_txt)\n",
    "element.submit()\n",
    "\n",
    "driver.find_element_by_link_text('카페').click()"
   ]
  },
  {
   "cell_type": "code",
   "execution_count": null,
   "metadata": {},
   "outputs": [],
   "source": [
    "# 검색 옵션\n",
    "driver.find_element_by_css_selector('#search_option_button').click()\n",
    "\n",
    "#정렬 버튼 xpath\n",
    "driver.find_element_by_xpath(\"\"\"//*[@id=\"snb\"]/div/ul/li[1]/a\"\"\").click()\n",
    "\n",
    "# 관련도순 xpath\n",
    "driver.find_element_by_xpath(\"\"\"//*[@id=\"snb\"]/div/ul/li[1]/div/ul/li[1]/a\"\"\").click()"
   ]
  },
  {
   "cell_type": "code",
   "execution_count": null,
   "metadata": {},
   "outputs": [],
   "source": [
    "html = driver.page_source\n",
    "soup = BeautifulSoup(html, 'lxml')\n",
    "\n",
    "result = []\n",
    "for i in tqdm(range(1000)):\n",
    "\n",
    "    #제목\n",
    "    title = soup.select('a.api_txt_lines.total_tit')[i].text\n",
    "    title = unicodedata.normalize('NFC', title)\n",
    "    \n",
    "    #본문\n",
    "    content = soup.select('div.total_group')[i].text\n",
    "    content = unicodedata.normalize('NFC', content)\n",
    "    \n",
    "    #날짜\n",
    "    date = soup.select('span.sub_time.sub_txt')[i].text\n",
    "    \n",
    "    data = [title, content, date]\n",
    "    result.append(data)\n",
    "    \n",
    "print(len(result))"
   ]
  },
  {
   "cell_type": "code",
   "execution_count": null,
   "metadata": {},
   "outputs": [],
   "source": [
    "results_df = pd.DataFrame(result)\n",
    "results_df.columns = ['title','content','date']\n",
    "\n",
    "results_df.drop_duplicates(subset=['content'], inplace=True)\n",
    "results_df.reset_index(inplace = True, drop = True)\n",
    "results_df.to_excel('../output/fresheasy/fresheasymealkit_cafe.xlsx')\n",
    "\n",
    "driver.close()"
   ]
  },
  {
   "cell_type": "markdown",
   "metadata": {},
   "source": [
    "### 2.3.3 word \"프레시지쿠킹박스\""
   ]
  },
  {
   "cell_type": "code",
   "execution_count": null,
   "metadata": {},
   "outputs": [],
   "source": [
    "query_txt = '프레시지쿠킹박스'\n",
    "\n",
    "driver = webdriver.Chrome('../driver/chromedriver.exe')\n",
    "driver.get('http://www.naver.com')\n",
    "time.sleep(2)\n",
    "\n",
    "element = driver.find_element_by_id('query')\n",
    "element.send_keys(query_txt)\n",
    "element.submit()\n",
    "\n",
    "driver.find_element_by_link_text('카페').click()"
   ]
  },
  {
   "cell_type": "code",
   "execution_count": null,
   "metadata": {},
   "outputs": [],
   "source": [
    "# 검색 옵션\n",
    "driver.find_element_by_css_selector('#search_option_button').click()\n",
    "\n",
    "#정렬 버튼 xpath\n",
    "driver.find_element_by_xpath(\"\"\"//*[@id=\"snb\"]/div/ul/li[1]/a\"\"\").click()\n",
    "\n",
    "# 관련도순 xpath\n",
    "driver.find_element_by_xpath(\"\"\"//*[@id=\"snb\"]/div/ul/li[1]/div/ul/li[1]/a\"\"\").click()"
   ]
  },
  {
   "cell_type": "code",
   "execution_count": null,
   "metadata": {},
   "outputs": [],
   "source": [
    "html = driver.page_source\n",
    "soup = BeautifulSoup(html, 'lxml')\n",
    "\n",
    "result = []\n",
    "for i in tqdm(range(1000)):\n",
    "\n",
    "    #제목\n",
    "    title = soup.select('a.api_txt_lines.total_tit')[i].text\n",
    "    title = unicodedata.normalize('NFC', title)\n",
    "    \n",
    "    #본문\n",
    "    content = soup.select('div.total_group')[i].text\n",
    "    content = unicodedata.normalize('NFC', content)\n",
    "    \n",
    "    #날짜\n",
    "    date = soup.select('span.sub_time.sub_txt')[i].text\n",
    "    \n",
    "    data = [title, content, date]\n",
    "    result.append(data)\n",
    "len(result)"
   ]
  },
  {
   "cell_type": "code",
   "execution_count": null,
   "metadata": {},
   "outputs": [],
   "source": [
    "results_df = pd.DataFrame(result)\n",
    "results_df.columns = ['title','content','date']\n",
    "\n",
    "results_df.drop_duplicates(subset=['content'], inplace=True)\n",
    "results_df.reset_index(inplace = True, drop = True)\n",
    "\n",
    "results_df.to_excel('../output/fresheasy/fresheasycookingbox_cafe.xlsx')\n",
    "driver.close()"
   ]
  },
  {
   "cell_type": "markdown",
   "metadata": {},
   "source": [
    "### 2.3.4 word \"프레시지+쓰레기\""
   ]
  },
  {
   "cell_type": "markdown",
   "metadata": {},
   "source": [
    "#### Blog Crawling"
   ]
  },
  {
   "cell_type": "code",
   "execution_count": null,
   "metadata": {},
   "outputs": [],
   "source": [
    "query_txt = '프레시지+쓰레기'\n",
    "\n",
    "driver = webdriver.Chrome('../driver/chromedriver.exe')\n",
    "driver.get('http://www.naver.com')\n",
    "time.sleep(2)\n",
    "\n",
    "element = driver.find_element_by_id('query')\n",
    "element.send_keys(query_txt)\n",
    "element.submit()\n",
    "\n",
    "driver.find_element_by_link_text('블로그').click()"
   ]
  },
  {
   "cell_type": "code",
   "execution_count": null,
   "metadata": {},
   "outputs": [],
   "source": [
    "# 검색 옵션\n",
    "driver.find_element_by_css_selector('#search_option_button').click()\n",
    "\n",
    "#정렬 버튼 xpath\n",
    "driver.find_element_by_xpath(\"\"\"//*[@id=\"snb\"]/div/ul/li[1]/a\"\"\").click()\n",
    "\n",
    "# 관련도순 xpath\n",
    "driver.find_element_by_xpath(\"\"\"//*[@id=\"snb\"]/div/ul/li[1]/div/ul/li[1]/a\"\"\").click()"
   ]
  },
  {
   "cell_type": "code",
   "execution_count": null,
   "metadata": {},
   "outputs": [],
   "source": [
    "html = driver.page_source\n",
    "soup = BeautifulSoup(html, 'lxml')\n",
    "\n",
    "result = []\n",
    "for i in tqdm(range(762)):\n",
    "\n",
    "    #제목\n",
    "    title = soup.select('a.api_txt_lines.total_tit')[i].text\n",
    "    title = unicodedata.normalize('NFC', title)\n",
    "    \n",
    "    #본문\n",
    "    content = soup.select('div.total_group')[i].text\n",
    "    content = unicodedata.normalize('NFC', content)\n",
    "    \n",
    "    #날짜\n",
    "    date = soup.select('span.sub_time.sub_txt')[i].text\n",
    "    \n",
    "    data = [title, content, date]\n",
    "    result.append(data)\n",
    "len(result)"
   ]
  },
  {
   "cell_type": "code",
   "execution_count": null,
   "metadata": {},
   "outputs": [],
   "source": [
    "results_df = pd.DataFrame(result)\n",
    "results_df.columns = ['title','content','date']\n",
    "\n",
    "results_df.drop_duplicates(subset=['content'], inplace=True)\n",
    "results_df.reset_index(inplace = True, drop = True)\n",
    "results_df.to_excel('../output/fresheasy/fresheasy_trash_blog.xlsx')\n",
    "driver.close()"
   ]
  },
  {
   "cell_type": "markdown",
   "metadata": {},
   "source": [
    "#### Cafe Crawling"
   ]
  },
  {
   "cell_type": "code",
   "execution_count": null,
   "metadata": {},
   "outputs": [],
   "source": [
    "driver = webdriver.Chrome('../driver/chromedriver.exe')\n",
    "driver.get('http://www.naver.com')\n",
    "time.sleep(2)\n",
    "\n",
    "element = driver.find_element_by_id('query')\n",
    "element.send_keys(query_txt)\n",
    "element.submit()\n",
    "\n",
    "driver.find_element_by_link_text('카페').click()"
   ]
  },
  {
   "cell_type": "code",
   "execution_count": null,
   "metadata": {},
   "outputs": [],
   "source": [
    "# 검색 옵션\n",
    "driver.find_element_by_css_selector('#search_option_button').click()\n",
    "\n",
    "#정렬 버튼 xpath\n",
    "driver.find_element_by_xpath(\"\"\"//*[@id=\"snb\"]/div/ul/li[1]/a\"\"\").click()\n",
    "\n",
    "# 관련도순 xpath\n",
    "driver.find_element_by_xpath(\"\"\"//*[@id=\"snb\"]/div/ul/li[1]/div/ul/li[1]/a\"\"\").click()"
   ]
  },
  {
   "cell_type": "code",
   "execution_count": null,
   "metadata": {},
   "outputs": [],
   "source": [
    "html = driver.page_source\n",
    "soup = BeautifulSoup(html, 'lxml')\n",
    "\n",
    "result = []\n",
    "for i in tqdm(range(80)):\n",
    "\n",
    "    #제목\n",
    "    title = soup.select('a.api_txt_lines.total_tit')[i].text\n",
    "    title = unicodedata.normalize('NFC', title)\n",
    "    \n",
    "    #본문\n",
    "    content = soup.select('div.total_group')[i].text\n",
    "    content = unicodedata.normalize('NFC', content)\n",
    "    \n",
    "    #날짜\n",
    "    date = soup.select('span.sub_time.sub_txt')[i].text\n",
    "    \n",
    "    data = [title, content, date]\n",
    "    result.append(data)"
   ]
  },
  {
   "cell_type": "code",
   "execution_count": null,
   "metadata": {},
   "outputs": [],
   "source": [
    "results_df = pd.DataFrame(result)\n",
    "results_df.columns = ['title','content','date']\n",
    "\n",
    "results_df.drop_duplicates(subset=['content'], inplace=True)\n",
    "results_df.reset_index(inplace = True, drop = True)\n",
    "results_df['title']"
   ]
  },
  {
   "cell_type": "code",
   "execution_count": null,
   "metadata": {},
   "outputs": [],
   "source": [
    "results_df.to_excel('../output/fresheasy/fresheasy_trash_cafe.xlsx')\n",
    "driver.close()"
   ]
  },
  {
   "cell_type": "markdown",
   "metadata": {},
   "source": [
    "#### 크롤링한 데이터 합치기"
   ]
  },
  {
   "cell_type": "code",
   "execution_count": null,
   "metadata": {},
   "outputs": [],
   "source": [
    "trash_blog = pd.read_excel('../output/fresheasy/fresheasy_trash_blog.xlsx',\n",
    "                          engine = 'openpyxl')\n",
    "trash_cafe = pd.read_excel('../output/fresheasy/fresheasy_trash_cafe.xlsx',\n",
    "                          engine = 'openpyxl')"
   ]
  },
  {
   "cell_type": "code",
   "execution_count": null,
   "metadata": {},
   "outputs": [],
   "source": [
    "trash_total = pd.concat([trash_blog, trash_cafe])\n",
    "trash_total.drop_duplicates(subset=['content'], inplace=True)\n",
    "trash_total.reset_index(inplace=True, drop=True)\n",
    "trash_total.to_excel('../output/fresheasy/fresheasy_trash_naver.xlsx',index=False)"
   ]
  },
  {
   "cell_type": "markdown",
   "metadata": {},
   "source": [
    "### 2.3.5 word \"프레시지+포장\""
   ]
  },
  {
   "cell_type": "markdown",
   "metadata": {},
   "source": [
    "#### Blog Crawling"
   ]
  },
  {
   "cell_type": "code",
   "execution_count": null,
   "metadata": {},
   "outputs": [],
   "source": [
    "query_txt = '프레시지+포장'\n",
    "driver = webdriver.Chrome('../driver/chromedriver.exe')\n",
    "driver.get('http://www.naver.com')\n",
    "time.sleep(2)\n",
    "\n",
    "element = driver.find_element_by_id('query')\n",
    "element.send_keys(query_txt)\n",
    "element.submit()\n",
    "\n",
    "driver.find_element_by_link_text('블로그').click()"
   ]
  },
  {
   "cell_type": "code",
   "execution_count": null,
   "metadata": {},
   "outputs": [],
   "source": [
    "# 검색 옵션\n",
    "driver.find_element_by_css_selector('#search_option_button').click()\n",
    "\n",
    "#정렬 버튼 xpath\n",
    "driver.find_element_by_xpath(\"\"\"//*[@id=\"snb\"]/div/ul/li[1]/a\"\"\").click()\n",
    "\n",
    "# 관련도순 xpath\n",
    "driver.find_element_by_xpath(\"\"\"//*[@id=\"snb\"]/div/ul/li[1]/div/ul/li[1]/a\"\"\").click()"
   ]
  },
  {
   "cell_type": "code",
   "execution_count": null,
   "metadata": {},
   "outputs": [],
   "source": [
    "html = driver.page_source\n",
    "soup = BeautifulSoup(html, 'lxml')\n",
    "\n",
    "result = []\n",
    "for i in tqdm(range(1000)):\n",
    "\n",
    "    #제목\n",
    "    title = soup.select('a.api_txt_lines.total_tit')[i].text\n",
    "    title = unicodedata.normalize('NFC', title)\n",
    "    \n",
    "    #본문\n",
    "    content = soup.select('div.total_group')[i].text\n",
    "    content = unicodedata.normalize('NFC', content)\n",
    "    \n",
    "    #날짜\n",
    "    date = soup.select('span.sub_time.sub_txt')[i].text\n",
    "    \n",
    "    data = [title, content, date]\n",
    "    result.append(data)"
   ]
  },
  {
   "cell_type": "code",
   "execution_count": null,
   "metadata": {},
   "outputs": [],
   "source": [
    "results_df = pd.DataFrame(result)\n",
    "results_df.columns = ['title','content','date']\n",
    "print(len(results_df))\n",
    "\n",
    "results_df.drop_duplicates(subset=['content'], inplace=True)\n",
    "results_df.reset_index(inplace = True, drop = True)\n",
    "results_df.to_excel('../output#### Cafe Crawling/fresheasy/fresheasy_pack_blog.xlsx',index=False)\n",
    "driver.close()"
   ]
  },
  {
   "cell_type": "markdown",
   "metadata": {},
   "source": [
    "#### Cafe Crawling"
   ]
  },
  {
   "cell_type": "code",
   "execution_count": null,
   "metadata": {},
   "outputs": [],
   "source": [
    "driver = webdriver.Chrome('../driver/chromedriver.exe')\n",
    "driver.get('http://www.naver.com')\n",
    "time.sleep(2)\n",
    "\n",
    "element = driver.find_element_by_id('query')\n",
    "element.send_keys(query_txt)\n",
    "element.submit()\n",
    "\n",
    "driver.find_element_by_link_text('카페').click()"
   ]
  },
  {
   "cell_type": "code",
   "execution_count": null,
   "metadata": {},
   "outputs": [],
   "source": [
    "# 검색 옵션\n",
    "driver.find_element_by_css_selector('#search_option_button').click()\n",
    "\n",
    "#정렬 버튼 xpath\n",
    "driver.find_element_by_xpath(\"\"\"//*[@id=\"snb\"]/div/ul/li[1]/a\"\"\").click()\n",
    "\n",
    "# 관련도순 xpath\n",
    "driver.find_element_by_xpath(\"\"\"//*[@id=\"snb\"]/div/ul/li[1]/div/ul/li[1]/a\"\"\").click()"
   ]
  },
  {
   "cell_type": "code",
   "execution_count": null,
   "metadata": {},
   "outputs": [],
   "source": [
    "html = driver.page_source\n",
    "soup = BeautifulSoup(html, 'lxml')\n",
    "\n",
    "result = []\n",
    "for i in tqdm(range(1000)):\n",
    "\n",
    "    #제목\n",
    "    title = soup.select('a.api_txt_lines.total_tit')[i].text\n",
    "    title = unicodedata.normalize('NFC', title)\n",
    "    \n",
    "    #본문\n",
    "    content = soup.select('div.total_group')[i].text\n",
    "    content = unicodedata.normalize('NFC', content)\n",
    "    \n",
    "    #날짜\n",
    "    date = soup.select('span.sub_time.sub_txt')[i].text\n",
    "    \n",
    "    data = [title, content, date]\n",
    "    result.append(data)"
   ]
  },
  {
   "cell_type": "code",
   "execution_count": null,
   "metadata": {},
   "outputs": [],
   "source": [
    "results_df = pd.DataFrame(result)\n",
    "results_df.columns = ['title','content','date']\n",
    "print(len(results_df))\n",
    "\n",
    "results_df.drop_duplicates(subset=['content'], inplace=True)\n",
    "results_df.reset_index(inplace = True, drop = True)\n",
    "results_df.to_excel('../output/fresheasy/fresheasy_pack_cafe.xlsx',index=False)"
   ]
  },
  {
   "cell_type": "markdown",
   "metadata": {},
   "source": [
    "### 2.4 크롤링한 데이터 병합"
   ]
  },
  {
   "cell_type": "markdown",
   "metadata": {},
   "source": [
    "#### 2.4.1 Naver Blog"
   ]
  },
  {
   "cell_type": "code",
   "execution_count": null,
   "metadata": {},
   "outputs": [],
   "source": [
    "fresheasy = pd.read_excel('../output/fresheasy/fresheasy_blog.xlsx', engine='openpyxl', index_col = 0)\n",
    "\n",
    "fresheasymealkit = pd.read_excel('../output/fresheasy/fresheasymealkit_blog.xlsx',\n",
    "                                engine = 'openpyxl', index_col=0)\n",
    "\n",
    "fresheasycookingbox = pd.read_excel('../output/fresheasy/fresheasycookingbox_blog.xlsx',\n",
    "                                   engine = 'openpyxl', index_col = 0)"
   ]
  },
  {
   "cell_type": "code",
   "execution_count": null,
   "metadata": {},
   "outputs": [],
   "source": [
    "fresheasy_total_blog.drop_duplicates(subset=['content'], inplace=True)\n",
    "fresheasy_total_blog.reset_index(inplace=True, drop=True)\n",
    "len(fresheasy_total_blog)\n",
    "fresheasy_total_blog = pd.concat([fresheasy, fresheasymealkit, fresheasycookingbox])\n",
    "fresheasy_total_blog.to_excel('../output/fresheasy/fresheasy_total_blog.xlsx', index=False)"
   ]
  },
  {
   "cell_type": "markdown",
   "metadata": {},
   "source": [
    "#### 2.4.2 Naver Cafe"
   ]
  },
  {
   "cell_type": "code",
   "execution_count": null,
   "metadata": {},
   "outputs": [],
   "source": [
    "fresheasy1 = pd.read_excel('../output/fresheasy/fresheasy_cafe.xlsx', \n",
    "                           engine='openpyxl', index_col = 0)\n",
    "\n",
    "fresheasymealkit1 = pd.read_excel('../output/fresheasy/fresheasymealkit_cafe.xlsx',\n",
    "                                engine = 'openpyxl', index_col=0)\n",
    "\n",
    "fresheasycookingbox1 = pd.read_excel('../output/fresheasy/fresheasycookingbox_cafe.xlsx',\n",
    "                                   engine = 'openpyxl', index_col = 0)"
   ]
  },
  {
   "cell_type": "code",
   "execution_count": null,
   "metadata": {},
   "outputs": [],
   "source": [
    "fresheasy_total_cafe = pd.concat([fresheasy1, fresheasymealkit1, fresheasycookingbox1])\n",
    "fresheasy_total_cafe.drop_duplicates(subset=['content'], inplace=True)\n",
    "fresheasy_total_cafe.reset_index(inplace=True, drop=True)\n",
    "len(fresheasy_total_cafe)"
   ]
  },
  {
   "cell_type": "code",
   "execution_count": null,
   "metadata": {},
   "outputs": [],
   "source": [
    "fresheasy_total_cafe = pd.read_excel('../output/fresheasy/fresheasy_total_cafe.xlsx',\n",
    "                                    engine = 'openpyxl')"
   ]
  },
  {
   "cell_type": "markdown",
   "metadata": {},
   "source": [
    "#### 2.4.3 Instagram"
   ]
  },
  {
   "cell_type": "code",
   "execution_count": null,
   "metadata": {},
   "outputs": [],
   "source": [
    "fresheasy2 = pd.read_excel('../output/fresheasy/fresheasy_insta.xlsx', engine='openpyxl', index_col = 0)\n",
    "\n",
    "fresheasymealkit2 = pd.read_excel('../output/fresheasy/fresheasymealkit_insta.xlsx',\n",
    "                                engine = 'openpyxl', index_col=0)\n",
    "\n",
    "fresheasycookingbox2 = pd.read_excel('../output/fresheasy/fresheasycookingbox_insta.xlsx',\n",
    "                                   engine = 'openpyxl', index_col = 0)"
   ]
  },
  {
   "cell_type": "code",
   "execution_count": null,
   "metadata": {},
   "outputs": [],
   "source": [
    "fresheasy_total_insta = pd.concat([fresheasy2, fresheasymealkit2, fresheasycookingbox2])\n",
    "fresheasy_total_insta.drop_duplicates(subset=['content'], inplace=True)\n",
    "fresheasy_total_insta.reset_index(inplace=True, drop=True)\n",
    "len(fresheasy_total_insta)"
   ]
  },
  {
   "cell_type": "code",
   "execution_count": null,
   "metadata": {},
   "outputs": [],
   "source": [
    "fresheasy_total_insta.to_excel('../output/fresheasy/fresheasy_total_insta.xlsx', index=False)"
   ]
  }
 ],
 "metadata": {
  "hide_input": false,
  "kernelspec": {
   "display_name": "Python 3",
   "language": "python",
   "name": "python3"
  },
  "language_info": {
   "codemirror_mode": {
    "name": "ipython",
    "version": 3
   },
   "file_extension": ".py",
   "mimetype": "text/x-python",
   "name": "python",
   "nbconvert_exporter": "python",
   "pygments_lexer": "ipython3",
   "version": "3.6.12"
  },
  "varInspector": {
   "cols": {
    "lenName": 16,
    "lenType": 16,
    "lenVar": 40
   },
   "kernels_config": {
    "python": {
     "delete_cmd_postfix": "",
     "delete_cmd_prefix": "del ",
     "library": "var_list.py",
     "varRefreshCmd": "print(var_dic_list())"
    },
    "r": {
     "delete_cmd_postfix": ") ",
     "delete_cmd_prefix": "rm(",
     "library": "var_list.r",
     "varRefreshCmd": "cat(var_dic_list()) "
    }
   },
   "types_to_exclude": [
    "module",
    "function",
    "builtin_function_or_method",
    "instance",
    "_Feature"
   ],
   "window_display": false
  }
 },
 "nbformat": 4,
 "nbformat_minor": 4
}
